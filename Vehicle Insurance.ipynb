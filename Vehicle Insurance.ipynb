{
 "cells": [
  {
   "cell_type": "markdown",
   "id": "c3cd9bcf",
   "metadata": {},
   "source": [
    "### Problem Statement "
   ]
  },
  {
   "cell_type": "markdown",
   "id": "975b122d",
   "metadata": {},
   "source": [
    "The Vehicle Insurance business is a multi-billion dollar industry. Every year millions and millions of premiums are paid, and a huge amount of claims also pile up. \n",
    "\n",
    "You have to step into the shoes of a data scientist who is building models to help an insurance company understand which claims are worth rejecting and claims which should be accepted for reimbursement. "
   ]
  },
  {
   "cell_type": "markdown",
   "id": "1de70953",
   "metadata": {},
   "source": [
    "### Import the library"
   ]
  },
  {
   "cell_type": "code",
   "execution_count": 1,
   "id": "964196aa",
   "metadata": {},
   "outputs": [],
   "source": [
    "import numpy as np\n",
    "import pandas as pd\n",
    "import matplotlib.pyplot as plt\n",
    "import seaborn as  sns\n",
    "import warnings\n",
    "warnings.filterwarnings('ignore')"
   ]
  },
  {
   "cell_type": "markdown",
   "id": "6b01041b",
   "metadata": {},
   "source": [
    "### Import the data"
   ]
  },
  {
   "cell_type": "code",
   "execution_count": 2,
   "id": "5860feb2",
   "metadata": {},
   "outputs": [
    {
     "data": {
      "text/html": [
       "<div>\n",
       "<style scoped>\n",
       "    .dataframe tbody tr th:only-of-type {\n",
       "        vertical-align: middle;\n",
       "    }\n",
       "\n",
       "    .dataframe tbody tr th {\n",
       "        vertical-align: top;\n",
       "    }\n",
       "\n",
       "    .dataframe thead th {\n",
       "        text-align: right;\n",
       "    }\n",
       "</style>\n",
       "<table border=\"1\" class=\"dataframe\">\n",
       "  <thead>\n",
       "    <tr style=\"text-align: right;\">\n",
       "      <th></th>\n",
       "      <th>ID</th>\n",
       "      <th>AGE</th>\n",
       "      <th>GENDER</th>\n",
       "      <th>DRIVING_EXPERIENCE</th>\n",
       "      <th>EDUCATION</th>\n",
       "      <th>INCOME</th>\n",
       "      <th>CREDIT_SCORE</th>\n",
       "      <th>VEHICLE_OWNERSHIP</th>\n",
       "      <th>VEHICLE_YEAR</th>\n",
       "      <th>MARRIED</th>\n",
       "      <th>CHILDREN</th>\n",
       "      <th>POSTAL_CODE</th>\n",
       "      <th>ANNUAL_MILEAGE</th>\n",
       "      <th>SPEEDING_VIOLATIONS</th>\n",
       "      <th>DUIS</th>\n",
       "      <th>PAST_ACCIDENTS</th>\n",
       "      <th>OUTCOME</th>\n",
       "      <th>TYPE_OF_VEHICLE</th>\n",
       "    </tr>\n",
       "  </thead>\n",
       "  <tbody>\n",
       "    <tr>\n",
       "      <th>0</th>\n",
       "      <td>816393</td>\n",
       "      <td>40-64</td>\n",
       "      <td>female</td>\n",
       "      <td>20-29y</td>\n",
       "      <td>university</td>\n",
       "      <td>middle class</td>\n",
       "      <td>0.638050</td>\n",
       "      <td>0</td>\n",
       "      <td>after 2015</td>\n",
       "      <td>0</td>\n",
       "      <td>0</td>\n",
       "      <td>37379</td>\n",
       "      <td>11000</td>\n",
       "      <td>0</td>\n",
       "      <td>0</td>\n",
       "      <td>0</td>\n",
       "      <td>0</td>\n",
       "      <td>Sports Car</td>\n",
       "    </tr>\n",
       "    <tr>\n",
       "      <th>1</th>\n",
       "      <td>251762</td>\n",
       "      <td>26-39</td>\n",
       "      <td>male</td>\n",
       "      <td>20-29y</td>\n",
       "      <td>high school</td>\n",
       "      <td>middle class</td>\n",
       "      <td>0.475741</td>\n",
       "      <td>1</td>\n",
       "      <td>before 2015</td>\n",
       "      <td>1</td>\n",
       "      <td>0</td>\n",
       "      <td>10238</td>\n",
       "      <td>9000</td>\n",
       "      <td>0</td>\n",
       "      <td>0</td>\n",
       "      <td>0</td>\n",
       "      <td>1</td>\n",
       "      <td>HatchBack</td>\n",
       "    </tr>\n",
       "    <tr>\n",
       "      <th>2</th>\n",
       "      <td>481952</td>\n",
       "      <td>40-64</td>\n",
       "      <td>male</td>\n",
       "      <td>20-29y</td>\n",
       "      <td>none</td>\n",
       "      <td>middle class</td>\n",
       "      <td>0.839817</td>\n",
       "      <td>1</td>\n",
       "      <td>before 2015</td>\n",
       "      <td>1</td>\n",
       "      <td>1</td>\n",
       "      <td>10238</td>\n",
       "      <td>12000</td>\n",
       "      <td>0</td>\n",
       "      <td>0</td>\n",
       "      <td>0</td>\n",
       "      <td>1</td>\n",
       "      <td>Sedan</td>\n",
       "    </tr>\n",
       "    <tr>\n",
       "      <th>3</th>\n",
       "      <td>3506</td>\n",
       "      <td>40-64</td>\n",
       "      <td>male</td>\n",
       "      <td>20-29y</td>\n",
       "      <td>high school</td>\n",
       "      <td>upper class</td>\n",
       "      <td>0.682527</td>\n",
       "      <td>1</td>\n",
       "      <td>before 2015</td>\n",
       "      <td>0</td>\n",
       "      <td>1</td>\n",
       "      <td>92099</td>\n",
       "      <td>6000</td>\n",
       "      <td>1</td>\n",
       "      <td>0</td>\n",
       "      <td>0</td>\n",
       "      <td>1</td>\n",
       "      <td>Sedan</td>\n",
       "    </tr>\n",
       "    <tr>\n",
       "      <th>4</th>\n",
       "      <td>498013</td>\n",
       "      <td>40-64</td>\n",
       "      <td>female</td>\n",
       "      <td>20-29y</td>\n",
       "      <td>none</td>\n",
       "      <td>working class</td>\n",
       "      <td>0.572184</td>\n",
       "      <td>1</td>\n",
       "      <td>after 2015</td>\n",
       "      <td>1</td>\n",
       "      <td>1</td>\n",
       "      <td>32122</td>\n",
       "      <td>15000</td>\n",
       "      <td>0</td>\n",
       "      <td>0</td>\n",
       "      <td>1</td>\n",
       "      <td>0</td>\n",
       "      <td>Sedan</td>\n",
       "    </tr>\n",
       "  </tbody>\n",
       "</table>\n",
       "</div>"
      ],
      "text/plain": [
       "       ID    AGE  GENDER DRIVING_EXPERIENCE    EDUCATION         INCOME  \\\n",
       "0  816393  40-64  female             20-29y   university   middle class   \n",
       "1  251762  26-39    male             20-29y  high school   middle class   \n",
       "2  481952  40-64    male             20-29y         none   middle class   \n",
       "3    3506  40-64    male             20-29y  high school    upper class   \n",
       "4  498013  40-64  female             20-29y         none  working class   \n",
       "\n",
       "   CREDIT_SCORE  VEHICLE_OWNERSHIP VEHICLE_YEAR  MARRIED  CHILDREN  \\\n",
       "0      0.638050                  0   after 2015        0         0   \n",
       "1      0.475741                  1  before 2015        1         0   \n",
       "2      0.839817                  1  before 2015        1         1   \n",
       "3      0.682527                  1  before 2015        0         1   \n",
       "4      0.572184                  1   after 2015        1         1   \n",
       "\n",
       "   POSTAL_CODE  ANNUAL_MILEAGE  SPEEDING_VIOLATIONS  DUIS  PAST_ACCIDENTS  \\\n",
       "0        37379           11000                    0     0               0   \n",
       "1        10238            9000                    0     0               0   \n",
       "2        10238           12000                    0     0               0   \n",
       "3        92099            6000                    1     0               0   \n",
       "4        32122           15000                    0     0               1   \n",
       "\n",
       "   OUTCOME TYPE_OF_VEHICLE  \n",
       "0        0      Sports Car  \n",
       "1        1       HatchBack  \n",
       "2        1           Sedan  \n",
       "3        1           Sedan  \n",
       "4        0           Sedan  "
      ]
     },
     "execution_count": 2,
     "metadata": {},
     "output_type": "execute_result"
    }
   ],
   "source": [
    "train_df=pd.read_csv(\"train.csv\")\n",
    "train_df.head()"
   ]
  },
  {
   "cell_type": "code",
   "execution_count": 3,
   "id": "eb8232a7",
   "metadata": {},
   "outputs": [
    {
     "data": {
      "text/html": [
       "<div>\n",
       "<style scoped>\n",
       "    .dataframe tbody tr th:only-of-type {\n",
       "        vertical-align: middle;\n",
       "    }\n",
       "\n",
       "    .dataframe tbody tr th {\n",
       "        vertical-align: top;\n",
       "    }\n",
       "\n",
       "    .dataframe thead th {\n",
       "        text-align: right;\n",
       "    }\n",
       "</style>\n",
       "<table border=\"1\" class=\"dataframe\">\n",
       "  <thead>\n",
       "    <tr style=\"text-align: right;\">\n",
       "      <th></th>\n",
       "      <th>ID</th>\n",
       "      <th>AGE</th>\n",
       "      <th>GENDER</th>\n",
       "      <th>DRIVING_EXPERIENCE</th>\n",
       "      <th>EDUCATION</th>\n",
       "      <th>INCOME</th>\n",
       "      <th>CREDIT_SCORE</th>\n",
       "      <th>VEHICLE_OWNERSHIP</th>\n",
       "      <th>VEHICLE_YEAR</th>\n",
       "      <th>MARRIED</th>\n",
       "      <th>CHILDREN</th>\n",
       "      <th>POSTAL_CODE</th>\n",
       "      <th>ANNUAL_MILEAGE</th>\n",
       "      <th>SPEEDING_VIOLATIONS</th>\n",
       "      <th>DUIS</th>\n",
       "      <th>PAST_ACCIDENTS</th>\n",
       "      <th>TYPE_OF_VEHICLE</th>\n",
       "    </tr>\n",
       "  </thead>\n",
       "  <tbody>\n",
       "    <tr>\n",
       "      <th>0</th>\n",
       "      <td>303713</td>\n",
       "      <td>16-25</td>\n",
       "      <td>male</td>\n",
       "      <td>10-19y</td>\n",
       "      <td>high school</td>\n",
       "      <td>middle class</td>\n",
       "      <td>0.424958</td>\n",
       "      <td>1</td>\n",
       "      <td>before 2015</td>\n",
       "      <td>1</td>\n",
       "      <td>0</td>\n",
       "      <td>10238</td>\n",
       "      <td>13000</td>\n",
       "      <td>0</td>\n",
       "      <td>0</td>\n",
       "      <td>0</td>\n",
       "      <td>Sports Car</td>\n",
       "    </tr>\n",
       "    <tr>\n",
       "      <th>1</th>\n",
       "      <td>141107</td>\n",
       "      <td>16-25</td>\n",
       "      <td>male</td>\n",
       "      <td>20-29y</td>\n",
       "      <td>high school</td>\n",
       "      <td>working class</td>\n",
       "      <td>0.503478</td>\n",
       "      <td>0</td>\n",
       "      <td>before 2015</td>\n",
       "      <td>1</td>\n",
       "      <td>1</td>\n",
       "      <td>10238</td>\n",
       "      <td>14000</td>\n",
       "      <td>0</td>\n",
       "      <td>0</td>\n",
       "      <td>0</td>\n",
       "      <td>SUV</td>\n",
       "    </tr>\n",
       "    <tr>\n",
       "      <th>2</th>\n",
       "      <td>447316</td>\n",
       "      <td>26-39</td>\n",
       "      <td>female</td>\n",
       "      <td>20-29y</td>\n",
       "      <td>high school</td>\n",
       "      <td>upper class</td>\n",
       "      <td>0.252246</td>\n",
       "      <td>1</td>\n",
       "      <td>before 2015</td>\n",
       "      <td>1</td>\n",
       "      <td>0</td>\n",
       "      <td>10238</td>\n",
       "      <td>10000</td>\n",
       "      <td>0</td>\n",
       "      <td>0</td>\n",
       "      <td>0</td>\n",
       "      <td>HatchBack</td>\n",
       "    </tr>\n",
       "    <tr>\n",
       "      <th>3</th>\n",
       "      <td>196066</td>\n",
       "      <td>16-25</td>\n",
       "      <td>female</td>\n",
       "      <td>20-29y</td>\n",
       "      <td>university</td>\n",
       "      <td>middle class</td>\n",
       "      <td>0.464749</td>\n",
       "      <td>1</td>\n",
       "      <td>before 2015</td>\n",
       "      <td>1</td>\n",
       "      <td>1</td>\n",
       "      <td>10238</td>\n",
       "      <td>7000</td>\n",
       "      <td>0</td>\n",
       "      <td>1</td>\n",
       "      <td>0</td>\n",
       "      <td>SUV</td>\n",
       "    </tr>\n",
       "    <tr>\n",
       "      <th>4</th>\n",
       "      <td>179947</td>\n",
       "      <td>16-25</td>\n",
       "      <td>male</td>\n",
       "      <td>20-29y</td>\n",
       "      <td>high school</td>\n",
       "      <td>working class</td>\n",
       "      <td>0.452968</td>\n",
       "      <td>1</td>\n",
       "      <td>after 2015</td>\n",
       "      <td>0</td>\n",
       "      <td>1</td>\n",
       "      <td>10238</td>\n",
       "      <td>13000</td>\n",
       "      <td>1</td>\n",
       "      <td>0</td>\n",
       "      <td>0</td>\n",
       "      <td>SUV</td>\n",
       "    </tr>\n",
       "  </tbody>\n",
       "</table>\n",
       "</div>"
      ],
      "text/plain": [
       "       ID    AGE  GENDER DRIVING_EXPERIENCE    EDUCATION         INCOME  \\\n",
       "0  303713  16-25    male             10-19y  high school   middle class   \n",
       "1  141107  16-25    male             20-29y  high school  working class   \n",
       "2  447316  26-39  female             20-29y  high school    upper class   \n",
       "3  196066  16-25  female             20-29y   university   middle class   \n",
       "4  179947  16-25    male             20-29y  high school  working class   \n",
       "\n",
       "   CREDIT_SCORE  VEHICLE_OWNERSHIP VEHICLE_YEAR  MARRIED  CHILDREN  \\\n",
       "0      0.424958                  1  before 2015        1         0   \n",
       "1      0.503478                  0  before 2015        1         1   \n",
       "2      0.252246                  1  before 2015        1         0   \n",
       "3      0.464749                  1  before 2015        1         1   \n",
       "4      0.452968                  1   after 2015        0         1   \n",
       "\n",
       "   POSTAL_CODE  ANNUAL_MILEAGE  SPEEDING_VIOLATIONS  DUIS  PAST_ACCIDENTS  \\\n",
       "0        10238           13000                    0     0               0   \n",
       "1        10238           14000                    0     0               0   \n",
       "2        10238           10000                    0     0               0   \n",
       "3        10238            7000                    0     1               0   \n",
       "4        10238           13000                    1     0               0   \n",
       "\n",
       "  TYPE_OF_VEHICLE  \n",
       "0      Sports Car  \n",
       "1             SUV  \n",
       "2       HatchBack  \n",
       "3             SUV  \n",
       "4             SUV  "
      ]
     },
     "execution_count": 3,
     "metadata": {},
     "output_type": "execute_result"
    }
   ],
   "source": [
    "test_df=pd.read_csv(\"test.csv\")\n",
    "test_df.head()"
   ]
  },
  {
   "cell_type": "code",
   "execution_count": 4,
   "id": "ae1ed5d8",
   "metadata": {},
   "outputs": [
    {
     "data": {
      "text/plain": [
       "(87285, 18)"
      ]
     },
     "execution_count": 4,
     "metadata": {},
     "output_type": "execute_result"
    }
   ],
   "source": [
    "train_df.shape"
   ]
  },
  {
   "cell_type": "code",
   "execution_count": 5,
   "id": "5be83ce2",
   "metadata": {},
   "outputs": [
    {
     "name": "stdout",
     "output_type": "stream",
     "text": [
      "<class 'pandas.core.frame.DataFrame'>\n",
      "RangeIndex: 87285 entries, 0 to 87284\n",
      "Data columns (total 18 columns):\n",
      " #   Column               Non-Null Count  Dtype  \n",
      "---  ------               --------------  -----  \n",
      " 0   ID                   87285 non-null  int64  \n",
      " 1   AGE                  87285 non-null  object \n",
      " 2   GENDER               87285 non-null  object \n",
      " 3   DRIVING_EXPERIENCE   87285 non-null  object \n",
      " 4   EDUCATION            87285 non-null  object \n",
      " 5   INCOME               87285 non-null  object \n",
      " 6   CREDIT_SCORE         87285 non-null  float64\n",
      " 7   VEHICLE_OWNERSHIP    87285 non-null  int64  \n",
      " 8   VEHICLE_YEAR         87285 non-null  object \n",
      " 9   MARRIED              87285 non-null  int64  \n",
      " 10  CHILDREN             87285 non-null  int64  \n",
      " 11  POSTAL_CODE          87285 non-null  int64  \n",
      " 12  ANNUAL_MILEAGE       87285 non-null  int64  \n",
      " 13  SPEEDING_VIOLATIONS  87285 non-null  int64  \n",
      " 14  DUIS                 87285 non-null  int64  \n",
      " 15  PAST_ACCIDENTS       87285 non-null  int64  \n",
      " 16  OUTCOME              87285 non-null  int64  \n",
      " 17  TYPE_OF_VEHICLE      87285 non-null  object \n",
      "dtypes: float64(1), int64(10), object(7)\n",
      "memory usage: 12.0+ MB\n"
     ]
    }
   ],
   "source": [
    "train_df.info()"
   ]
  },
  {
   "cell_type": "code",
   "execution_count": 6,
   "id": "238a2e20",
   "metadata": {},
   "outputs": [
    {
     "data": {
      "text/plain": [
       "Index(['ID', 'AGE', 'GENDER', 'DRIVING_EXPERIENCE', 'EDUCATION', 'INCOME',\n",
       "       'CREDIT_SCORE', 'VEHICLE_OWNERSHIP', 'VEHICLE_YEAR', 'MARRIED',\n",
       "       'CHILDREN', 'POSTAL_CODE', 'ANNUAL_MILEAGE', 'SPEEDING_VIOLATIONS',\n",
       "       'DUIS', 'PAST_ACCIDENTS', 'OUTCOME', 'TYPE_OF_VEHICLE'],\n",
       "      dtype='object')"
      ]
     },
     "execution_count": 6,
     "metadata": {},
     "output_type": "execute_result"
    }
   ],
   "source": [
    "train_df.columns"
   ]
  },
  {
   "cell_type": "markdown",
   "id": "ee97c99a",
   "metadata": {},
   "source": [
    "### Categorical Variable"
   ]
  },
  {
   "cell_type": "code",
   "execution_count": 7,
   "id": "4b68b697",
   "metadata": {},
   "outputs": [],
   "source": [
    "train_df_cat = train_df.select_dtypes(object)"
   ]
  },
  {
   "cell_type": "code",
   "execution_count": 8,
   "id": "db1473aa",
   "metadata": {},
   "outputs": [
    {
     "name": "stdout",
     "output_type": "stream",
     "text": [
      "The feature name is: AGE\n",
      "40-64    32.041015\n",
      "65+      31.389128\n",
      "26-39    19.106376\n",
      "16-25    17.463482\n",
      "Name: AGE, dtype: float64\n",
      "**************************************************\n",
      "The feature name is: GENDER\n",
      "male      62.30051\n",
      "female    37.69949\n",
      "Name: GENDER, dtype: float64\n",
      "**************************************************\n",
      "The feature name is: DRIVING_EXPERIENCE\n",
      "20-29y    35.711749\n",
      "0-9y      31.533482\n",
      "10-19y    23.880392\n",
      "30y+       8.874377\n",
      "Name: DRIVING_EXPERIENCE, dtype: float64\n",
      "**************************************************\n",
      "The feature name is: EDUCATION\n",
      "high school    44.390216\n",
      "university     29.748525\n",
      "none           25.861259\n",
      "Name: EDUCATION, dtype: float64\n",
      "**************************************************\n",
      "The feature name is: INCOME\n",
      "upper class      48.903019\n",
      "working class    23.229650\n",
      "middle class     13.980638\n",
      "poverty          13.886693\n",
      "Name: INCOME, dtype: float64\n",
      "**************************************************\n",
      "The feature name is: VEHICLE_YEAR\n",
      "before 2015    54.692101\n",
      "after 2015     45.307899\n",
      "Name: VEHICLE_YEAR, dtype: float64\n",
      "**************************************************\n",
      "The feature name is: TYPE_OF_VEHICLE\n",
      "Sports Car    32.907143\n",
      "Sedan         26.820187\n",
      "HatchBack     23.717706\n",
      "SUV           16.554964\n",
      "Name: TYPE_OF_VEHICLE, dtype: float64\n",
      "**************************************************\n"
     ]
    }
   ],
   "source": [
    "for var in train_df_cat:\n",
    "    print('The feature name is:',var)\n",
    "    print(train_df[var].value_counts(normalize=True)*100)\n",
    "    print('*'*50)"
   ]
  },
  {
   "cell_type": "markdown",
   "id": "46beb24d",
   "metadata": {},
   "source": [
    "### Numerical Variable"
   ]
  },
  {
   "cell_type": "code",
   "execution_count": 9,
   "id": "2053e23f",
   "metadata": {},
   "outputs": [],
   "source": [
    "train_df_num = train_df.select_dtypes('number')"
   ]
  },
  {
   "cell_type": "code",
   "execution_count": 10,
   "id": "f070ad68",
   "metadata": {
    "scrolled": false
   },
   "outputs": [
    {
     "name": "stdout",
     "output_type": "stream",
     "text": [
      "The feature name is: ID\n",
      "101       0.124878\n",
      "102       0.040099\n",
      "103       0.010311\n",
      "104       0.010311\n",
      "106       0.009165\n",
      "            ...   \n",
      "858173    0.001146\n",
      "977142    0.001146\n",
      "607797    0.001146\n",
      "212047    0.001146\n",
      "164608    0.001146\n",
      "Name: ID, Length: 82657, dtype: float64\n",
      "**************************************************\n",
      "The feature name is: CREDIT_SCORE\n",
      "0.442071    0.002291\n",
      "0.583765    0.002291\n",
      "0.501793    0.002291\n",
      "0.505614    0.002291\n",
      "0.755054    0.002291\n",
      "              ...   \n",
      "0.688666    0.001146\n",
      "0.761721    0.001146\n",
      "0.528849    0.001146\n",
      "0.717558    0.001146\n",
      "0.763635    0.001146\n",
      "Name: CREDIT_SCORE, Length: 87262, dtype: float64\n",
      "**************************************************\n",
      "The feature name is: VEHICLE_OWNERSHIP\n",
      "1    82.775964\n",
      "0    17.224036\n",
      "Name: VEHICLE_OWNERSHIP, dtype: float64\n",
      "**************************************************\n",
      "The feature name is: MARRIED\n",
      "1    58.496878\n",
      "0    41.503122\n",
      "Name: MARRIED, dtype: float64\n",
      "**************************************************\n",
      "The feature name is: CHILDREN\n",
      "1    51.974566\n",
      "0    48.025434\n",
      "Name: CHILDREN, dtype: float64\n",
      "**************************************************\n",
      "The feature name is: POSTAL_CODE\n",
      "10238    73.971473\n",
      "92101     1.270550\n",
      "92100     0.373489\n",
      "92099     0.147792\n",
      "92098     0.126024\n",
      "           ...    \n",
      "29600     0.001146\n",
      "32398     0.001146\n",
      "31290     0.001146\n",
      "18834     0.001146\n",
      "29398     0.001146\n",
      "Name: POSTAL_CODE, Length: 10061, dtype: float64\n",
      "**************************************************\n",
      "The feature name is: ANNUAL_MILEAGE\n",
      "14000    15.561666\n",
      "10000    15.327949\n",
      "13000    14.967062\n",
      "9000     11.377671\n",
      "11000    10.038380\n",
      "12000     8.141147\n",
      "7000      5.781062\n",
      "15000     4.924099\n",
      "6000      3.473678\n",
      "8000      3.045197\n",
      "16000     2.222604\n",
      "3000      1.451567\n",
      "4000      1.130778\n",
      "5000      0.902790\n",
      "17000     0.582001\n",
      "2000      0.537320\n",
      "18000     0.293292\n",
      "19000     0.160394\n",
      "20000     0.076760\n",
      "21000     0.004583\n",
      "Name: ANNUAL_MILEAGE, dtype: float64\n",
      "**************************************************\n",
      "The feature name is: SPEEDING_VIOLATIONS\n",
      "0     65.698574\n",
      "1     18.992954\n",
      "2      8.402360\n",
      "3      2.881366\n",
      "4      1.591339\n",
      "5      0.866128\n",
      "6      0.465143\n",
      "7      0.331099\n",
      "8      0.252048\n",
      "9      0.164977\n",
      "10     0.101965\n",
      "11     0.088217\n",
      "12     0.054992\n",
      "13     0.052701\n",
      "14     0.022913\n",
      "15     0.014894\n",
      "16     0.008020\n",
      "17     0.004583\n",
      "18     0.003437\n",
      "20     0.001146\n",
      "19     0.001146\n",
      "Name: SPEEDING_VIOLATIONS, dtype: float64\n",
      "**************************************************\n",
      "The feature name is: DUIS\n",
      "0    93.579653\n",
      "1     3.258292\n",
      "2     1.142235\n",
      "3     1.041416\n",
      "4     0.667927\n",
      "5     0.238300\n",
      "6     0.072177\n",
      "Name: DUIS, dtype: float64\n",
      "**************************************************\n",
      "The feature name is: PAST_ACCIDENTS\n",
      "0     75.167555\n",
      "1     13.105345\n",
      "2      6.119035\n",
      "3      1.638311\n",
      "4      1.257948\n",
      "5      0.864983\n",
      "6      0.517844\n",
      "7      0.383800\n",
      "8      0.323080\n",
      "9      0.208512\n",
      "10     0.150083\n",
      "11     0.088217\n",
      "12     0.064158\n",
      "13     0.050410\n",
      "14     0.035516\n",
      "15     0.025205\n",
      "Name: PAST_ACCIDENTS, dtype: float64\n",
      "**************************************************\n",
      "The feature name is: OUTCOME\n",
      "0    57.704073\n",
      "1    42.295927\n",
      "Name: OUTCOME, dtype: float64\n",
      "**************************************************\n"
     ]
    }
   ],
   "source": [
    "for var in train_df_num:\n",
    "    print('The feature name is:',var)\n",
    "    print(train_df[var].value_counts(normalize=True)*100)\n",
    "    print('*'*50)"
   ]
  },
  {
   "cell_type": "markdown",
   "id": "f38cd24b",
   "metadata": {},
   "source": [
    "### Change the datatype"
   ]
  },
  {
   "cell_type": "code",
   "execution_count": 11,
   "id": "79613b95",
   "metadata": {},
   "outputs": [],
   "source": [
    "train_df[['VEHICLE_OWNERSHIP','MARRIED','CHILDREN']]=train_df[['VEHICLE_OWNERSHIP','MARRIED','CHILDREN']].astype('object')"
   ]
  },
  {
   "cell_type": "code",
   "execution_count": 12,
   "id": "bb02916f",
   "metadata": {},
   "outputs": [
    {
     "data": {
      "text/plain": [
       "ID                       int64\n",
       "AGE                     object\n",
       "GENDER                  object\n",
       "DRIVING_EXPERIENCE      object\n",
       "EDUCATION               object\n",
       "INCOME                  object\n",
       "CREDIT_SCORE           float64\n",
       "VEHICLE_OWNERSHIP       object\n",
       "VEHICLE_YEAR            object\n",
       "MARRIED                 object\n",
       "CHILDREN                object\n",
       "POSTAL_CODE              int64\n",
       "ANNUAL_MILEAGE           int64\n",
       "SPEEDING_VIOLATIONS      int64\n",
       "DUIS                     int64\n",
       "PAST_ACCIDENTS           int64\n",
       "OUTCOME                  int64\n",
       "TYPE_OF_VEHICLE         object\n",
       "dtype: object"
      ]
     },
     "execution_count": 12,
     "metadata": {},
     "output_type": "execute_result"
    }
   ],
   "source": [
    "train_df.dtypes"
   ]
  },
  {
   "cell_type": "markdown",
   "id": "842d4e36",
   "metadata": {},
   "source": [
    "### Check the missing values"
   ]
  },
  {
   "cell_type": "code",
   "execution_count": 13,
   "id": "6ebffc1f",
   "metadata": {},
   "outputs": [
    {
     "data": {
      "text/plain": [
       "ID                     0\n",
       "AGE                    0\n",
       "GENDER                 0\n",
       "DRIVING_EXPERIENCE     0\n",
       "EDUCATION              0\n",
       "INCOME                 0\n",
       "CREDIT_SCORE           0\n",
       "VEHICLE_OWNERSHIP      0\n",
       "VEHICLE_YEAR           0\n",
       "MARRIED                0\n",
       "CHILDREN               0\n",
       "POSTAL_CODE            0\n",
       "ANNUAL_MILEAGE         0\n",
       "SPEEDING_VIOLATIONS    0\n",
       "DUIS                   0\n",
       "PAST_ACCIDENTS         0\n",
       "OUTCOME                0\n",
       "TYPE_OF_VEHICLE        0\n",
       "dtype: int64"
      ]
     },
     "execution_count": 13,
     "metadata": {},
     "output_type": "execute_result"
    }
   ],
   "source": [
    "train_df.isnull().sum()"
   ]
  },
  {
   "cell_type": "markdown",
   "id": "c988e763",
   "metadata": {},
   "source": [
    "From the above we can see that there is no missing value but we can see in education variable we have null value so we will impute this value with mode of the variable."
   ]
  },
  {
   "cell_type": "code",
   "execution_count": 14,
   "id": "05a29ad9",
   "metadata": {},
   "outputs": [],
   "source": [
    "train_df[\"EDUCATION\"]=train_df[\"EDUCATION\"].replace('none',np.nan)"
   ]
  },
  {
   "cell_type": "code",
   "execution_count": 15,
   "id": "68f2fd64",
   "metadata": {},
   "outputs": [],
   "source": [
    "train_df[\"EDUCATION\"] = train_df[\"EDUCATION\"].fillna(train_df[\"EDUCATION\"].mode()[0])"
   ]
  },
  {
   "cell_type": "code",
   "execution_count": 16,
   "id": "76b15060",
   "metadata": {},
   "outputs": [],
   "source": [
    "train_df_num = train_df.select_dtypes('number')"
   ]
  },
  {
   "cell_type": "code",
   "execution_count": 17,
   "id": "cb6d36cc",
   "metadata": {},
   "outputs": [
    {
     "data": {
      "text/plain": [
       "Index(['AGE', 'GENDER', 'DRIVING_EXPERIENCE', 'EDUCATION', 'INCOME',\n",
       "       'VEHICLE_OWNERSHIP', 'VEHICLE_YEAR', 'MARRIED', 'CHILDREN',\n",
       "       'TYPE_OF_VEHICLE'],\n",
       "      dtype='object')"
      ]
     },
     "execution_count": 17,
     "metadata": {},
     "output_type": "execute_result"
    }
   ],
   "source": [
    "train_df_cat= train_df.select_dtypes(object)\n",
    "train_df_cat.columns"
   ]
  },
  {
   "cell_type": "code",
   "execution_count": 18,
   "id": "4b3feb14",
   "metadata": {},
   "outputs": [
    {
     "data": {
      "text/plain": [
       "1    51.974566\n",
       "0    48.025434\n",
       "Name: CHILDREN, dtype: float64"
      ]
     },
     "execution_count": 18,
     "metadata": {},
     "output_type": "execute_result"
    }
   ],
   "source": [
    "train_df_cat['CHILDREN'].value_counts(normalize=True)*100"
   ]
  },
  {
   "cell_type": "code",
   "execution_count": 19,
   "id": "4e8bc3c9",
   "metadata": {},
   "outputs": [],
   "source": [
    "train_df_cat['AGE'] = train_df_cat['AGE'].replace('16-25',0).replace('26-39',0).replace('40-64',1).replace('65+',1)"
   ]
  },
  {
   "cell_type": "code",
   "execution_count": 20,
   "id": "2d01a83f",
   "metadata": {},
   "outputs": [],
   "source": [
    "train_df_cat['GENDER'] = train_df_cat['GENDER'].replace('male',0).replace('female',1)"
   ]
  },
  {
   "cell_type": "code",
   "execution_count": 21,
   "id": "880de6e7",
   "metadata": {},
   "outputs": [],
   "source": [
    "train_df_cat['DRIVING_EXPERIENCE'] = train_df_cat['DRIVING_EXPERIENCE'].replace('0-9y',0).replace('10-19y',0).replace('20-29y',1).replace('30y+',1)             "
   ]
  },
  {
   "cell_type": "code",
   "execution_count": 22,
   "id": "954e81b6",
   "metadata": {},
   "outputs": [],
   "source": [
    "train_df_cat['EDUCATION'] = train_df_cat['EDUCATION'].replace('high school',0).replace('university',1)"
   ]
  },
  {
   "cell_type": "code",
   "execution_count": 23,
   "id": "952a40ab",
   "metadata": {},
   "outputs": [],
   "source": [
    "train_df_cat['INCOME'] = train_df_cat['INCOME'].replace('poverty',0).replace('middle class',0).replace('working class',1).replace('upper class',1)"
   ]
  },
  {
   "cell_type": "code",
   "execution_count": 24,
   "id": "a78cef5f",
   "metadata": {},
   "outputs": [],
   "source": [
    "train_df_cat['VEHICLE_YEAR'] = train_df_cat['VEHICLE_YEAR'].replace('before 2015',0).replace('after 2015',1)"
   ]
  },
  {
   "cell_type": "code",
   "execution_count": 25,
   "id": "a035bb11",
   "metadata": {},
   "outputs": [],
   "source": [
    "train_df_cat['TYPE_OF_VEHICLE'] = train_df_cat['TYPE_OF_VEHICLE'].replace('SUV',0).replace('HatchBack',1).replace('Sedan',0).replace('Sports Car',1)"
   ]
  },
  {
   "cell_type": "code",
   "execution_count": 26,
   "id": "ebe54528",
   "metadata": {},
   "outputs": [
    {
     "data": {
      "text/plain": [
       "AGE                   0\n",
       "GENDER                0\n",
       "DRIVING_EXPERIENCE    0\n",
       "EDUCATION             0\n",
       "INCOME                0\n",
       "VEHICLE_OWNERSHIP     0\n",
       "VEHICLE_YEAR          0\n",
       "MARRIED               0\n",
       "CHILDREN              0\n",
       "TYPE_OF_VEHICLE       0\n",
       "dtype: int64"
      ]
     },
     "execution_count": 26,
     "metadata": {},
     "output_type": "execute_result"
    }
   ],
   "source": [
    "train_df_cat.isnull().sum()"
   ]
  },
  {
   "cell_type": "markdown",
   "id": "6f5ce3a0",
   "metadata": {},
   "source": [
    "### Check the outliers"
   ]
  },
  {
   "cell_type": "code",
   "execution_count": 27,
   "id": "63aa1629",
   "metadata": {
    "scrolled": false
   },
   "outputs": [
    {
     "data": {
      "image/png": "[encoded data removed]",
      "text/plain": [
       "<Figure size 1800x1800 with 6 Axes>"
      ]
     },
     "metadata": {
      "needs_background": "light"
     },
     "output_type": "display_data"
    }
   ],
   "source": [
    "fig, ax=plt.subplots(3,2,figsize=(25,25))\n",
    "for var, subplot in zip(train_df_num.columns,ax.flatten()):\n",
    "    sns.boxplot(train_df_num[var],ax=subplot)\n",
    "    \n",
    "plt.show()"
   ]
  },
  {
   "cell_type": "markdown",
   "id": "9e661e2b",
   "metadata": {},
   "source": [
    "### Univariate Analysis"
   ]
  },
  {
   "cell_type": "code",
   "execution_count": 28,
   "id": "0d603b83",
   "metadata": {},
   "outputs": [
    {
     "data": {
      "image/png": "[encoded data removed]",
      "text/plain": [
       "<Figure size 6480x4680 with 9 Axes>"
      ]
     },
     "metadata": {
      "needs_background": "light"
     },
     "output_type": "display_data"
    }
   ],
   "source": [
    "train_df.hist(figsize=(90,65))\n",
    "plt.tight_layout()\n",
    "plt.show()"
   ]
  },
  {
   "cell_type": "code",
   "execution_count": 29,
   "id": "23b9a1be",
   "metadata": {},
   "outputs": [
    {
     "data": {
      "image/png": "[encoded data removed]",
      "text/plain": [
       "<Figure size 864x504 with 1 Axes>"
      ]
     },
     "metadata": {
      "needs_background": "light"
     },
     "output_type": "display_data"
    }
   ],
   "source": [
    "plt.figure(figsize=(12,7))\n",
    "sns.countplot(data=train_df,x='OUTCOME',order=train_df['OUTCOME'].value_counts().index)\n",
    "plt.xticks(rotation=90)\n",
    "plt.show()"
   ]
  },
  {
   "cell_type": "code",
   "execution_count": 30,
   "id": "99e9b143",
   "metadata": {},
   "outputs": [
    {
     "data": {
      "image/png": "[encoded data removed]",
      "text/plain": [
       "<Figure size 1080x576 with 1 Axes>"
      ]
     },
     "metadata": {
      "needs_background": "light"
     },
     "output_type": "display_data"
    }
   ],
   "source": [
    "plt.figure(figsize=(15,8))\n",
    "sns.distplot(train_df['OUTCOME'])\n",
    "plt.show()"
   ]
  },
  {
   "cell_type": "markdown",
   "id": "6ecb8d97",
   "metadata": {},
   "source": [
    "### Bivariate Analysis"
   ]
  },
  {
   "cell_type": "code",
   "execution_count": 31,
   "id": "8bf45b25",
   "metadata": {},
   "outputs": [
    {
     "data": {
      "text/plain": [
       "<AxesSubplot:xlabel='DRIVING_EXPERIENCE', ylabel='OUTCOME'>"
      ]
     },
     "execution_count": 31,
     "metadata": {},
     "output_type": "execute_result"
    },
    {
     "data": {
      "image/png": "[encoded data removed]",
      "text/plain": [
       "<Figure size 432x288 with 1 Axes>"
      ]
     },
     "metadata": {
      "needs_background": "light"
     },
     "output_type": "display_data"
    }
   ],
   "source": [
    "sns.barplot(y='OUTCOME',x='DRIVING_EXPERIENCE',data=train_df)"
   ]
  },
  {
   "cell_type": "code",
   "execution_count": 32,
   "id": "2b513a10",
   "metadata": {},
   "outputs": [
    {
     "data": {
      "text/plain": [
       "<AxesSubplot:xlabel='INCOME', ylabel='OUTCOME'>"
      ]
     },
     "execution_count": 32,
     "metadata": {},
     "output_type": "execute_result"
    },
    {
     "data": {
      "image/png": "[encoded data removed]",
      "text/plain": [
       "<Figure size 432x288 with 1 Axes>"
      ]
     },
     "metadata": {
      "needs_background": "light"
     },
     "output_type": "display_data"
    }
   ],
   "source": [
    "sns.barplot(y='OUTCOME',x='INCOME',data=train_df)"
   ]
  },
  {
   "cell_type": "code",
   "execution_count": 33,
   "id": "3566f332",
   "metadata": {},
   "outputs": [
    {
     "data": {
      "text/plain": [
       "<AxesSubplot:xlabel='VEHICLE_YEAR', ylabel='OUTCOME'>"
      ]
     },
     "execution_count": 33,
     "metadata": {},
     "output_type": "execute_result"
    },
    {
     "data": {
      "image/png": "[encoded data removed]",
      "text/plain": [
       "<Figure size 432x288 with 1 Axes>"
      ]
     },
     "metadata": {
      "needs_background": "light"
     },
     "output_type": "display_data"
    }
   ],
   "source": [
    "sns.barplot(y='OUTCOME',x='VEHICLE_YEAR',data=train_df)"
   ]
  },
  {
   "cell_type": "code",
   "execution_count": 34,
   "id": "239bfc9b",
   "metadata": {},
   "outputs": [
    {
     "data": {
      "text/plain": [
       "<AxesSubplot:xlabel='DUIS', ylabel='OUTCOME'>"
      ]
     },
     "execution_count": 34,
     "metadata": {},
     "output_type": "execute_result"
    },
    {
     "data": {
      "image/png": "[encoded data removed]",
      "text/plain": [
       "<Figure size 432x288 with 1 Axes>"
      ]
     },
     "metadata": {
      "needs_background": "light"
     },
     "output_type": "display_data"
    }
   ],
   "source": [
    "sns.barplot(y='OUTCOME',x='DUIS',data=train_df)"
   ]
  },
  {
   "cell_type": "code",
   "execution_count": 35,
   "id": "74cd4179",
   "metadata": {},
   "outputs": [
    {
     "data": {
      "text/plain": [
       "<AxesSubplot:xlabel='MARRIED', ylabel='OUTCOME'>"
      ]
     },
     "execution_count": 35,
     "metadata": {},
     "output_type": "execute_result"
    },
    {
     "data": {
      "image/png": "[encoded data removed]",
      "text/plain": [
       "<Figure size 432x288 with 1 Axes>"
      ]
     },
     "metadata": {
      "needs_background": "light"
     },
     "output_type": "display_data"
    }
   ],
   "source": [
    "sns.barplot(y='OUTCOME',x='MARRIED',data=train_df)"
   ]
  },
  {
   "cell_type": "markdown",
   "id": "e7eab940",
   "metadata": {},
   "source": [
    "### Multivariate Analysis"
   ]
  },
  {
   "cell_type": "code",
   "execution_count": 36,
   "id": "998096e3",
   "metadata": {},
   "outputs": [
    {
     "data": {
      "image/png": "[encoded data removed]",
      "text/plain": [
       "<Figure size 1080x576 with 2 Axes>"
      ]
     },
     "metadata": {
      "needs_background": "light"
     },
     "output_type": "display_data"
    }
   ],
   "source": [
    "plt.figure(figsize=(15,8))\n",
    "sns.heatmap(train_df.corr(),annot=True,fmt='.2f',cmap='coolwarm')\n",
    "plt.show()"
   ]
  },
  {
   "cell_type": "code",
   "execution_count": 37,
   "id": "9ef29a91",
   "metadata": {},
   "outputs": [
    {
     "data": {
      "text/html": [
       "<div>\n",
       "<style scoped>\n",
       "    .dataframe tbody tr th:only-of-type {\n",
       "        vertical-align: middle;\n",
       "    }\n",
       "\n",
       "    .dataframe tbody tr th {\n",
       "        vertical-align: top;\n",
       "    }\n",
       "\n",
       "    .dataframe thead th {\n",
       "        text-align: right;\n",
       "    }\n",
       "</style>\n",
       "<table border=\"1\" class=\"dataframe\">\n",
       "  <thead>\n",
       "    <tr style=\"text-align: right;\">\n",
       "      <th></th>\n",
       "      <th>AGE</th>\n",
       "      <th>GENDER</th>\n",
       "      <th>DRIVING_EXPERIENCE</th>\n",
       "      <th>EDUCATION</th>\n",
       "      <th>INCOME</th>\n",
       "      <th>VEHICLE_OWNERSHIP</th>\n",
       "      <th>VEHICLE_YEAR</th>\n",
       "      <th>MARRIED</th>\n",
       "      <th>CHILDREN</th>\n",
       "      <th>TYPE_OF_VEHICLE</th>\n",
       "    </tr>\n",
       "  </thead>\n",
       "  <tbody>\n",
       "    <tr>\n",
       "      <th>0</th>\n",
       "      <td>1</td>\n",
       "      <td>1</td>\n",
       "      <td>1</td>\n",
       "      <td>1</td>\n",
       "      <td>0</td>\n",
       "      <td>0</td>\n",
       "      <td>1</td>\n",
       "      <td>0</td>\n",
       "      <td>0</td>\n",
       "      <td>1</td>\n",
       "    </tr>\n",
       "    <tr>\n",
       "      <th>1</th>\n",
       "      <td>0</td>\n",
       "      <td>0</td>\n",
       "      <td>1</td>\n",
       "      <td>0</td>\n",
       "      <td>0</td>\n",
       "      <td>1</td>\n",
       "      <td>0</td>\n",
       "      <td>1</td>\n",
       "      <td>0</td>\n",
       "      <td>1</td>\n",
       "    </tr>\n",
       "    <tr>\n",
       "      <th>2</th>\n",
       "      <td>1</td>\n",
       "      <td>0</td>\n",
       "      <td>1</td>\n",
       "      <td>0</td>\n",
       "      <td>0</td>\n",
       "      <td>1</td>\n",
       "      <td>0</td>\n",
       "      <td>1</td>\n",
       "      <td>1</td>\n",
       "      <td>0</td>\n",
       "    </tr>\n",
       "    <tr>\n",
       "      <th>3</th>\n",
       "      <td>1</td>\n",
       "      <td>0</td>\n",
       "      <td>1</td>\n",
       "      <td>0</td>\n",
       "      <td>1</td>\n",
       "      <td>1</td>\n",
       "      <td>0</td>\n",
       "      <td>0</td>\n",
       "      <td>1</td>\n",
       "      <td>0</td>\n",
       "    </tr>\n",
       "    <tr>\n",
       "      <th>4</th>\n",
       "      <td>1</td>\n",
       "      <td>1</td>\n",
       "      <td>1</td>\n",
       "      <td>0</td>\n",
       "      <td>1</td>\n",
       "      <td>1</td>\n",
       "      <td>1</td>\n",
       "      <td>1</td>\n",
       "      <td>1</td>\n",
       "      <td>0</td>\n",
       "    </tr>\n",
       "  </tbody>\n",
       "</table>\n",
       "</div>"
      ],
      "text/plain": [
       "   AGE  GENDER  DRIVING_EXPERIENCE  EDUCATION  INCOME VEHICLE_OWNERSHIP  \\\n",
       "0    1       1                   1          1       0                 0   \n",
       "1    0       0                   1          0       0                 1   \n",
       "2    1       0                   1          0       0                 1   \n",
       "3    1       0                   1          0       1                 1   \n",
       "4    1       1                   1          0       1                 1   \n",
       "\n",
       "   VEHICLE_YEAR MARRIED CHILDREN  TYPE_OF_VEHICLE  \n",
       "0             1       0        0                1  \n",
       "1             0       1        0                1  \n",
       "2             0       1        1                0  \n",
       "3             0       0        1                0  \n",
       "4             1       1        1                0  "
      ]
     },
     "execution_count": 37,
     "metadata": {},
     "output_type": "execute_result"
    }
   ],
   "source": [
    "train_df_cat.head()"
   ]
  },
  {
   "cell_type": "code",
   "execution_count": 38,
   "id": "63a1aa0b",
   "metadata": {
    "scrolled": false
   },
   "outputs": [],
   "source": [
    "train_df_cat[['AGE', 'GENDER', 'DRIVING_EXPERIENCE', 'EDUCATION', 'INCOME',\n",
    "       'VEHICLE_OWNERSHIP', 'VEHICLE_YEAR', 'MARRIED', 'CHILDREN',\n",
    "       'TYPE_OF_VEHICLE']]=train_df_cat[['AGE', 'GENDER', 'DRIVING_EXPERIENCE', 'EDUCATION', 'INCOME',\n",
    "       'VEHICLE_OWNERSHIP', 'VEHICLE_YEAR', 'MARRIED', 'CHILDREN',\n",
    "       'TYPE_OF_VEHICLE']].astype(object)"
   ]
  },
  {
   "cell_type": "code",
   "execution_count": 39,
   "id": "01448ac4",
   "metadata": {},
   "outputs": [
    {
     "data": {
      "text/plain": [
       "AGE                   object\n",
       "GENDER                object\n",
       "DRIVING_EXPERIENCE    object\n",
       "EDUCATION             object\n",
       "INCOME                object\n",
       "VEHICLE_OWNERSHIP     object\n",
       "VEHICLE_YEAR          object\n",
       "MARRIED               object\n",
       "CHILDREN              object\n",
       "TYPE_OF_VEHICLE       object\n",
       "dtype: object"
      ]
     },
     "execution_count": 39,
     "metadata": {},
     "output_type": "execute_result"
    }
   ],
   "source": [
    "train_df_cat.dtypes"
   ]
  },
  {
   "cell_type": "code",
   "execution_count": 40,
   "id": "1281a639",
   "metadata": {},
   "outputs": [],
   "source": [
    "target = train_df['OUTCOME']"
   ]
  },
  {
   "cell_type": "code",
   "execution_count": 41,
   "id": "bf5017ac",
   "metadata": {},
   "outputs": [],
   "source": [
    "import category_encoders as ce"
   ]
  },
  {
   "cell_type": "code",
   "execution_count": 42,
   "id": "544b0180",
   "metadata": {},
   "outputs": [],
   "source": [
    "encoder = ce.cat_boost.CatBoostEncoder()\n",
    "encoder.fit(train_df_cat,target)\n",
    "df_encode= round(encoder.transform(train_df_cat),2)"
   ]
  },
  {
   "cell_type": "markdown",
   "id": "ab103ca3",
   "metadata": {},
   "source": [
    "### Scaling the numerical data"
   ]
  },
  {
   "cell_type": "code",
   "execution_count": 43,
   "id": "bd4c4db4",
   "metadata": {},
   "outputs": [],
   "source": [
    "from sklearn.preprocessing import StandardScaler\n",
    "\n",
    "ss = StandardScaler()\n",
    "\n",
    "df_scaled = ss.fit_transform(train_df_num.drop('OUTCOME',axis=1))\n",
    "\n",
    "df_scaled = pd.DataFrame(df_scaled,columns=(train_df_num.drop('OUTCOME',axis=1)).columns)"
   ]
  },
  {
   "cell_type": "code",
   "execution_count": 44,
   "id": "541741b6",
   "metadata": {},
   "outputs": [],
   "source": [
    "train_df_final = pd.concat([df_scaled,df_encode,target],axis=1)"
   ]
  },
  {
   "cell_type": "markdown",
   "id": "ad69d9d4",
   "metadata": {},
   "source": [
    "#### Dropping the redundant columns"
   ]
  },
  {
   "cell_type": "code",
   "execution_count": 45,
   "id": "d4c3f99a",
   "metadata": {},
   "outputs": [],
   "source": [
    "train_df_final = train_df_final.drop(columns=['ID','POSTAL_CODE'])"
   ]
  },
  {
   "cell_type": "code",
   "execution_count": 46,
   "id": "00766e8e",
   "metadata": {
    "scrolled": false
   },
   "outputs": [
    {
     "data": {
      "text/html": [
       "<div>\n",
       "<style scoped>\n",
       "    .dataframe tbody tr th:only-of-type {\n",
       "        vertical-align: middle;\n",
       "    }\n",
       "\n",
       "    .dataframe tbody tr th {\n",
       "        vertical-align: top;\n",
       "    }\n",
       "\n",
       "    .dataframe thead th {\n",
       "        text-align: right;\n",
       "    }\n",
       "</style>\n",
       "<table border=\"1\" class=\"dataframe\">\n",
       "  <thead>\n",
       "    <tr style=\"text-align: right;\">\n",
       "      <th></th>\n",
       "      <th>CREDIT_SCORE</th>\n",
       "      <th>ANNUAL_MILEAGE</th>\n",
       "      <th>SPEEDING_VIOLATIONS</th>\n",
       "      <th>DUIS</th>\n",
       "      <th>PAST_ACCIDENTS</th>\n",
       "      <th>AGE</th>\n",
       "      <th>GENDER</th>\n",
       "      <th>DRIVING_EXPERIENCE</th>\n",
       "      <th>EDUCATION</th>\n",
       "      <th>INCOME</th>\n",
       "      <th>VEHICLE_OWNERSHIP</th>\n",
       "      <th>VEHICLE_YEAR</th>\n",
       "      <th>MARRIED</th>\n",
       "      <th>CHILDREN</th>\n",
       "      <th>TYPE_OF_VEHICLE</th>\n",
       "      <th>OUTCOME</th>\n",
       "    </tr>\n",
       "  </thead>\n",
       "  <tbody>\n",
       "    <tr>\n",
       "      <th>0</th>\n",
       "      <td>0.261041</td>\n",
       "      <td>-0.018953</td>\n",
       "      <td>-0.489222</td>\n",
       "      <td>-0.219868</td>\n",
       "      <td>-0.390988</td>\n",
       "      <td>0.42</td>\n",
       "      <td>0.43</td>\n",
       "      <td>0.43</td>\n",
       "      <td>0.42</td>\n",
       "      <td>0.42</td>\n",
       "      <td>0.42</td>\n",
       "      <td>0.42</td>\n",
       "      <td>0.42</td>\n",
       "      <td>0.42</td>\n",
       "      <td>0.43</td>\n",
       "      <td>0</td>\n",
       "    </tr>\n",
       "    <tr>\n",
       "      <th>1</th>\n",
       "      <td>-0.915986</td>\n",
       "      <td>-0.690761</td>\n",
       "      <td>-0.489222</td>\n",
       "      <td>-0.219868</td>\n",
       "      <td>-0.390988</td>\n",
       "      <td>0.42</td>\n",
       "      <td>0.42</td>\n",
       "      <td>0.43</td>\n",
       "      <td>0.42</td>\n",
       "      <td>0.42</td>\n",
       "      <td>0.42</td>\n",
       "      <td>0.42</td>\n",
       "      <td>0.42</td>\n",
       "      <td>0.42</td>\n",
       "      <td>0.43</td>\n",
       "      <td>1</td>\n",
       "    </tr>\n",
       "    <tr>\n",
       "      <th>2</th>\n",
       "      <td>1.724207</td>\n",
       "      <td>0.316951</td>\n",
       "      <td>-0.489222</td>\n",
       "      <td>-0.219868</td>\n",
       "      <td>-0.390988</td>\n",
       "      <td>0.42</td>\n",
       "      <td>0.42</td>\n",
       "      <td>0.43</td>\n",
       "      <td>0.42</td>\n",
       "      <td>0.42</td>\n",
       "      <td>0.42</td>\n",
       "      <td>0.42</td>\n",
       "      <td>0.42</td>\n",
       "      <td>0.42</td>\n",
       "      <td>0.42</td>\n",
       "      <td>1</td>\n",
       "    </tr>\n",
       "    <tr>\n",
       "      <th>3</th>\n",
       "      <td>0.583581</td>\n",
       "      <td>-1.698473</td>\n",
       "      <td>0.230863</td>\n",
       "      <td>-0.219868</td>\n",
       "      <td>-0.390988</td>\n",
       "      <td>0.42</td>\n",
       "      <td>0.42</td>\n",
       "      <td>0.43</td>\n",
       "      <td>0.42</td>\n",
       "      <td>0.42</td>\n",
       "      <td>0.42</td>\n",
       "      <td>0.42</td>\n",
       "      <td>0.42</td>\n",
       "      <td>0.42</td>\n",
       "      <td>0.42</td>\n",
       "      <td>1</td>\n",
       "    </tr>\n",
       "    <tr>\n",
       "      <th>4</th>\n",
       "      <td>-0.216599</td>\n",
       "      <td>1.324663</td>\n",
       "      <td>-0.489222</td>\n",
       "      <td>-0.219868</td>\n",
       "      <td>0.324561</td>\n",
       "      <td>0.42</td>\n",
       "      <td>0.43</td>\n",
       "      <td>0.43</td>\n",
       "      <td>0.42</td>\n",
       "      <td>0.42</td>\n",
       "      <td>0.42</td>\n",
       "      <td>0.42</td>\n",
       "      <td>0.42</td>\n",
       "      <td>0.42</td>\n",
       "      <td>0.42</td>\n",
       "      <td>0</td>\n",
       "    </tr>\n",
       "  </tbody>\n",
       "</table>\n",
       "</div>"
      ],
      "text/plain": [
       "   CREDIT_SCORE  ANNUAL_MILEAGE  SPEEDING_VIOLATIONS      DUIS  \\\n",
       "0      0.261041       -0.018953            -0.489222 -0.219868   \n",
       "1     -0.915986       -0.690761            -0.489222 -0.219868   \n",
       "2      1.724207        0.316951            -0.489222 -0.219868   \n",
       "3      0.583581       -1.698473             0.230863 -0.219868   \n",
       "4     -0.216599        1.324663            -0.489222 -0.219868   \n",
       "\n",
       "   PAST_ACCIDENTS   AGE  GENDER  DRIVING_EXPERIENCE  EDUCATION  INCOME  \\\n",
       "0       -0.390988  0.42    0.43                0.43       0.42    0.42   \n",
       "1       -0.390988  0.42    0.42                0.43       0.42    0.42   \n",
       "2       -0.390988  0.42    0.42                0.43       0.42    0.42   \n",
       "3       -0.390988  0.42    0.42                0.43       0.42    0.42   \n",
       "4        0.324561  0.42    0.43                0.43       0.42    0.42   \n",
       "\n",
       "   VEHICLE_OWNERSHIP  VEHICLE_YEAR  MARRIED  CHILDREN  TYPE_OF_VEHICLE  \\\n",
       "0               0.42          0.42     0.42      0.42             0.43   \n",
       "1               0.42          0.42     0.42      0.42             0.43   \n",
       "2               0.42          0.42     0.42      0.42             0.42   \n",
       "3               0.42          0.42     0.42      0.42             0.42   \n",
       "4               0.42          0.42     0.42      0.42             0.42   \n",
       "\n",
       "   OUTCOME  \n",
       "0        0  \n",
       "1        1  \n",
       "2        1  \n",
       "3        1  \n",
       "4        0  "
      ]
     },
     "execution_count": 46,
     "metadata": {},
     "output_type": "execute_result"
    }
   ],
   "source": [
    "train_df_final.head()"
   ]
  },
  {
   "cell_type": "code",
   "execution_count": 47,
   "id": "9739ee73",
   "metadata": {},
   "outputs": [
    {
     "data": {
      "text/plain": [
       "(87285, 16)"
      ]
     },
     "execution_count": 47,
     "metadata": {},
     "output_type": "execute_result"
    }
   ],
   "source": [
    "train_df_final.shape"
   ]
  },
  {
   "cell_type": "code",
   "execution_count": 48,
   "id": "bdb2196d",
   "metadata": {},
   "outputs": [],
   "source": [
    "X = train_df_final.drop('OUTCOME', axis=1)\n",
    "y = train_df_final['OUTCOME']"
   ]
  },
  {
   "cell_type": "markdown",
   "id": "17215ab9",
   "metadata": {},
   "source": [
    "### Train test split"
   ]
  },
  {
   "cell_type": "code",
   "execution_count": 49,
   "id": "f3a89d00",
   "metadata": {},
   "outputs": [],
   "source": [
    "from sklearn.model_selection import train_test_split"
   ]
  },
  {
   "cell_type": "code",
   "execution_count": 50,
   "id": "15c3c802",
   "metadata": {},
   "outputs": [],
   "source": [
    "Xtrain, Xtest, ytrain, ytest = train_test_split(X,y,test_size=0.25,random_state=1)"
   ]
  },
  {
   "cell_type": "code",
   "execution_count": 51,
   "id": "b5dba5fa",
   "metadata": {},
   "outputs": [
    {
     "name": "stdout",
     "output_type": "stream",
     "text": [
      "Xtrain (65463, 15)\n",
      "Xtest (21822, 15)\n",
      "ytrain (65463,)\n",
      "ytest (21822,)\n"
     ]
    }
   ],
   "source": [
    "print('Xtrain', Xtrain.shape)\n",
    "print('Xtest', Xtest.shape)\n",
    "print('ytrain', ytrain.shape)\n",
    "print('ytest', ytest.shape)"
   ]
  },
  {
   "cell_type": "markdown",
   "id": "4748ecc6",
   "metadata": {},
   "source": [
    "### Check the balancing of dataset"
   ]
  },
  {
   "cell_type": "code",
   "execution_count": 52,
   "id": "34c20373",
   "metadata": {
    "scrolled": false
   },
   "outputs": [
    {
     "data": {
      "text/plain": [
       "0    57.704073\n",
       "1    42.295927\n",
       "Name: OUTCOME, dtype: float64"
      ]
     },
     "execution_count": 52,
     "metadata": {},
     "output_type": "execute_result"
    }
   ],
   "source": [
    "train_df_final['OUTCOME'].value_counts(normalize=True)*100"
   ]
  },
  {
   "cell_type": "code",
   "execution_count": 53,
   "id": "2ba26f18",
   "metadata": {},
   "outputs": [],
   "source": [
    "from imblearn.over_sampling import RandomOverSampler"
   ]
  },
  {
   "cell_type": "code",
   "execution_count": 54,
   "id": "8927b031",
   "metadata": {},
   "outputs": [
    {
     "name": "stdout",
     "output_type": "stream",
     "text": [
      "1    50.0\n",
      "0    50.0\n",
      "Name: OUTCOME, dtype: float64\n"
     ]
    }
   ],
   "source": [
    "ros = RandomOverSampler(sampling_strategy=1) # float\n",
    "X, y = ros.fit_resample(Xtrain, ytrain)\n",
    "ax = y.value_counts(normalize=True)*100\n",
    "print(ax)"
   ]
  },
  {
   "cell_type": "code",
   "execution_count": 55,
   "id": "b078e735",
   "metadata": {},
   "outputs": [],
   "source": [
    "Xtrain, Xtest, ytrain, ytest = train_test_split(X,y,test_size=0.25,random_state=1)"
   ]
  },
  {
   "cell_type": "markdown",
   "id": "2cd1db6b",
   "metadata": {},
   "source": [
    "### Build a base Model with scaling"
   ]
  },
  {
   "cell_type": "code",
   "execution_count": 56,
   "id": "2ce487a7",
   "metadata": {},
   "outputs": [],
   "source": [
    "from sklearn.linear_model import LogisticRegression\n",
    "from sklearn.metrics import accuracy_score, classification_report, confusion_matrix\n",
    "import statsmodels.api as sm"
   ]
  },
  {
   "cell_type": "code",
   "execution_count": 57,
   "id": "ac35f0d4",
   "metadata": {},
   "outputs": [
    {
     "data": {
      "text/plain": [
       "LogisticRegression(max_iter=2000, random_state=1)"
      ]
     },
     "execution_count": 57,
     "metadata": {},
     "output_type": "execute_result"
    }
   ],
   "source": [
    "model = LogisticRegression(max_iter=2000,random_state=1)\n",
    "\n",
    "model.fit(Xtrain, ytrain)"
   ]
  },
  {
   "cell_type": "code",
   "execution_count": 58,
   "id": "a42c80c0",
   "metadata": {
    "scrolled": true
   },
   "outputs": [
    {
     "name": "stdout",
     "output_type": "stream",
     "text": [
      "Accuracy train according to logistic regression: 0.5049935708875698\n",
      "Accuracy test according to logistic regression: 0.4986525759577279\n",
      "Classification Report (LogisticRegresiion):\n",
      "               precision    recall  f1-score   support\n",
      "\n",
      "           0       0.51      0.34      0.41      9564\n",
      "           1       0.49      0.66      0.56      9361\n",
      "\n",
      "    accuracy                           0.50     18925\n",
      "   macro avg       0.50      0.50      0.49     18925\n",
      "weighted avg       0.50      0.50      0.49     18925\n",
      "\n",
      "Confusion Matrix (LogisticRegresiion):\n",
      " [[3291 6273]\n",
      " [3215 6146]]\n"
     ]
    }
   ],
   "source": [
    "y_pred_train = model.predict(Xtrain)\n",
    "y_pred_test = model.predict(Xtest)\n",
    "\n",
    "accuracy_train = accuracy_score(ytrain, y_pred_train)\n",
    "accuracy_test = accuracy_score(ytest, y_pred_test)\n",
    "classification_report_output = classification_report(ytest, y_pred_test)\n",
    "conf_matrix = confusion_matrix(ytest, y_pred_test)\n",
    "\n",
    "print(\"Accuracy train according to logistic regression:\", accuracy_train)\n",
    "print(\"Accuracy test according to logistic regression:\", accuracy_test)\n",
    "print(\"Classification Report (LogisticRegresiion):\\n\", classification_report_output)\n",
    "print(\"Confusion Matrix (LogisticRegresiion):\\n\", conf_matrix)"
   ]
  },
  {
   "cell_type": "code",
   "execution_count": 59,
   "id": "04271010",
   "metadata": {},
   "outputs": [],
   "source": [
    "from sklearn.metrics import f1_score"
   ]
  },
  {
   "cell_type": "code",
   "execution_count": 60,
   "id": "f8d666ed",
   "metadata": {},
   "outputs": [],
   "source": [
    "f1_train = f1_score(ytrain, y_pred_train)\n",
    "f1_test = f1_score(ytest, y_pred_test)"
   ]
  },
  {
   "cell_type": "code",
   "execution_count": 61,
   "id": "85050fcc",
   "metadata": {},
   "outputs": [
    {
     "name": "stdout",
     "output_type": "stream",
     "text": [
      "F1 Score train: 0.5719725238740727\n",
      "F1 Score test : 0.5643709825528007\n"
     ]
    }
   ],
   "source": [
    "print(\"F1 Score train:\", f1_train)\n",
    "print(\"F1 Score test :\", f1_test)"
   ]
  },
  {
   "cell_type": "markdown",
   "id": "0c743af3",
   "metadata": {},
   "source": [
    "### Decision Tree with all feature"
   ]
  },
  {
   "cell_type": "code",
   "execution_count": 62,
   "id": "86c84b6a",
   "metadata": {},
   "outputs": [],
   "source": [
    "from sklearn.tree import DecisionTreeClassifier"
   ]
  },
  {
   "cell_type": "code",
   "execution_count": 63,
   "id": "45bdabc1",
   "metadata": {},
   "outputs": [],
   "source": [
    "DT_model = DecisionTreeClassifier(random_state=1)"
   ]
  },
  {
   "cell_type": "code",
   "execution_count": 64,
   "id": "76c7c20a",
   "metadata": {},
   "outputs": [],
   "source": [
    "DT_model.fit(Xtrain,ytrain)\n",
    "\n",
    "y_pred_train_dt = DT_model.predict(Xtrain)\n",
    "y_pred_test_dt = DT_model.predict(Xtest)"
   ]
  },
  {
   "cell_type": "code",
   "execution_count": 65,
   "id": "65c565df",
   "metadata": {},
   "outputs": [],
   "source": [
    "classification_report_out = classification_report(ytest, y_pred_test_dt)"
   ]
  },
  {
   "cell_type": "code",
   "execution_count": 66,
   "id": "6e74ad56",
   "metadata": {},
   "outputs": [
    {
     "name": "stdout",
     "output_type": "stream",
     "text": [
      "Classification Report(Decision Tree):\n",
      "               precision    recall  f1-score   support\n",
      "\n",
      "           0       0.63      0.55      0.59      9564\n",
      "           1       0.59      0.67      0.63      9361\n",
      "\n",
      "    accuracy                           0.61     18925\n",
      "   macro avg       0.61      0.61      0.61     18925\n",
      "weighted avg       0.61      0.61      0.61     18925\n",
      "\n"
     ]
    }
   ],
   "source": [
    "print(\"Classification Report(Decision Tree):\\n\", classification_report_out)"
   ]
  },
  {
   "cell_type": "code",
   "execution_count": 67,
   "id": "2bbff3a7",
   "metadata": {},
   "outputs": [],
   "source": [
    "f1_train = f1_score(ytrain, y_pred_train_dt)\n",
    "f1_test = f1_score(ytest, y_pred_test_dt)"
   ]
  },
  {
   "cell_type": "code",
   "execution_count": 68,
   "id": "c8085401",
   "metadata": {
    "scrolled": true
   },
   "outputs": [
    {
     "name": "stdout",
     "output_type": "stream",
     "text": [
      "F1 Score train: 0.9999824484422992\n",
      "F1 Score test : 0.6278216278719018\n"
     ]
    }
   ],
   "source": [
    "print(\"F1 Score train:\", f1_train)\n",
    "print(\"F1 Score test :\", f1_test)"
   ]
  },
  {
   "cell_type": "code",
   "execution_count": 69,
   "id": "44bb24f5",
   "metadata": {},
   "outputs": [],
   "source": [
    "accuracy_train = accuracy_score(ytrain, y_pred_train_dt)\n",
    "accuracy_test = accuracy_score(ytest, y_pred_test_dt)"
   ]
  },
  {
   "cell_type": "code",
   "execution_count": 70,
   "id": "0e3b0b2a",
   "metadata": {},
   "outputs": [
    {
     "name": "stdout",
     "output_type": "stream",
     "text": [
      "Accuracy train: 0.9999823859933419\n",
      "Accuracy test 0.6088243064729194\n"
     ]
    }
   ],
   "source": [
    "print(\"Accuracy train:\", accuracy_train)\n",
    "print(\"Accuracy test\", accuracy_test)"
   ]
  },
  {
   "cell_type": "markdown",
   "id": "393f9ab7",
   "metadata": {},
   "source": [
    "### Decision Tree with important feature"
   ]
  },
  {
   "cell_type": "code",
   "execution_count": 71,
   "id": "56af39d5",
   "metadata": {},
   "outputs": [],
   "source": [
    "important_features = pd.DataFrame({'Features': Xtrain.columns,\n",
    "                                   'Importance': DT_model.feature_importances_})\n",
    "\n",
    "imp_feature = important_features.sort_values(by='Importance', ascending=False)[:10]['Features']"
   ]
  },
  {
   "cell_type": "code",
   "execution_count": 72,
   "id": "ba67ccbe",
   "metadata": {},
   "outputs": [],
   "source": [
    "DT = DecisionTreeClassifier(random_state=1)\n",
    "\n",
    "DT.fit(Xtrain[imp_feature],ytrain)\n",
    "\n",
    "y_pred_train = DT.predict(Xtrain[imp_feature])\n",
    "y_pred_test = DT.predict(Xtest[imp_feature])"
   ]
  },
  {
   "cell_type": "code",
   "execution_count": 73,
   "id": "59e5cb08",
   "metadata": {},
   "outputs": [],
   "source": [
    "f1_train = f1_score(ytrain, y_pred_train)\n",
    "f1_test = f1_score(ytest, y_pred_test)"
   ]
  },
  {
   "cell_type": "code",
   "execution_count": 74,
   "id": "539e56d4",
   "metadata": {},
   "outputs": [
    {
     "name": "stdout",
     "output_type": "stream",
     "text": [
      "F1 Score train: 0.9999824484422992\n",
      "F1 Score test : 0.6278846639398071\n"
     ]
    }
   ],
   "source": [
    "print(\"F1 Score train:\", f1_train)\n",
    "print(\"F1 Score test :\", f1_test)"
   ]
  },
  {
   "cell_type": "code",
   "execution_count": 75,
   "id": "ee46004b",
   "metadata": {},
   "outputs": [],
   "source": [
    "accuracy_train = accuracy_score(ytrain, y_pred_train)\n",
    "accuracy_test = accuracy_score(ytest, y_pred_test)"
   ]
  },
  {
   "cell_type": "code",
   "execution_count": 76,
   "id": "1c2bfdf8",
   "metadata": {},
   "outputs": [
    {
     "name": "stdout",
     "output_type": "stream",
     "text": [
      "Accuracy train: 0.9999823859933419\n",
      "Accuracy test 0.6106208718626156\n"
     ]
    }
   ],
   "source": [
    "print(\"Accuracy train:\", accuracy_train)\n",
    "print(\"Accuracy test\", accuracy_test)"
   ]
  },
  {
   "cell_type": "code",
   "execution_count": 77,
   "id": "b12f3536",
   "metadata": {},
   "outputs": [
    {
     "name": "stdout",
     "output_type": "stream",
     "text": [
      "Classification Report\n",
      "               precision    recall  f1-score   support\n",
      "\n",
      "           0       0.63      0.56      0.59      9564\n",
      "           1       0.60      0.66      0.63      9361\n",
      "\n",
      "    accuracy                           0.61     18925\n",
      "   macro avg       0.61      0.61      0.61     18925\n",
      "weighted avg       0.61      0.61      0.61     18925\n",
      "\n"
     ]
    }
   ],
   "source": [
    "classification_report_out = classification_report(ytest, y_pred_test)\n",
    "print(\"Classification Report\\n\", classification_report_out)"
   ]
  },
  {
   "cell_type": "markdown",
   "id": "65b13c19",
   "metadata": {},
   "source": [
    "### Decision tree with GINI"
   ]
  },
  {
   "cell_type": "code",
   "execution_count": 78,
   "id": "d0d67368",
   "metadata": {},
   "outputs": [],
   "source": [
    "classifier = DecisionTreeClassifier(criterion = 'gini' , random_state = 1)\n",
    "classifier.fit(Xtrain, ytrain)\n",
    "\n",
    "y_pred_train = classifier.predict(Xtrain)\n",
    "y_pred_test = classifier.predict(Xtest)"
   ]
  },
  {
   "cell_type": "code",
   "execution_count": 79,
   "id": "08234b67",
   "metadata": {},
   "outputs": [
    {
     "name": "stdout",
     "output_type": "stream",
     "text": [
      "Accuracy train according to Decision tree: 0.9999823859933419\n",
      "Accuracy test according to Decision tree: 0.6088243064729194\n",
      "Classification Report (Decision tree):\n",
      "               precision    recall  f1-score   support\n",
      "\n",
      "           0       0.63      0.55      0.59      9564\n",
      "           1       0.59      0.67      0.63      9361\n",
      "\n",
      "    accuracy                           0.61     18925\n",
      "   macro avg       0.61      0.61      0.61     18925\n",
      "weighted avg       0.61      0.61      0.61     18925\n",
      "\n",
      "Confusion Matrix (Decision tree):\n",
      " [[5278 4286]\n",
      " [3117 6244]]\n"
     ]
    }
   ],
   "source": [
    "accuracy_train = accuracy_score(ytrain, y_pred_train)\n",
    "accuracy_test = accuracy_score(ytest, y_pred_test)\n",
    "classification_report_output = classification_report(ytest, y_pred_test)\n",
    "conf_matrix = confusion_matrix(ytest, y_pred_test)\n",
    "\n",
    "print(\"Accuracy train according to Decision tree:\", accuracy_train)\n",
    "print(\"Accuracy test according to Decision tree:\", accuracy_test)\n",
    "print(\"Classification Report (Decision tree):\\n\", classification_report_output)\n",
    "print(\"Confusion Matrix (Decision tree):\\n\", conf_matrix)"
   ]
  },
  {
   "cell_type": "code",
   "execution_count": 80,
   "id": "5ab9e8a9",
   "metadata": {},
   "outputs": [
    {
     "name": "stdout",
     "output_type": "stream",
     "text": [
      "F1 Score train: 0.9999824484422992\n",
      "F1 Score test : 0.6278216278719018\n"
     ]
    }
   ],
   "source": [
    "f1_train = f1_score(ytrain, y_pred_train)\n",
    "f1_test = f1_score(ytest, y_pred_test)\n",
    "print(\"F1 Score train:\", f1_train)\n",
    "print(\"F1 Score test :\", f1_test)"
   ]
  },
  {
   "cell_type": "markdown",
   "id": "00117d1a",
   "metadata": {},
   "source": [
    "### Decision tree with Entropy"
   ]
  },
  {
   "cell_type": "code",
   "execution_count": 81,
   "id": "f2805c66",
   "metadata": {},
   "outputs": [
    {
     "name": "stdout",
     "output_type": "stream",
     "text": [
      "Accuracy train  0.9999823859933419\n",
      "Accuracy test : 0.6129458388375165\n",
      "Classification Report :\n",
      "               precision    recall  f1-score   support\n",
      "\n",
      "           0       0.63      0.56      0.59      9564\n",
      "           1       0.60      0.67      0.63      9361\n",
      "\n",
      "    accuracy                           0.61     18925\n",
      "   macro avg       0.61      0.61      0.61     18925\n",
      "weighted avg       0.62      0.61      0.61     18925\n",
      "\n",
      "Confusion Matrix :\n",
      " [[5345 4219]\n",
      " [3106 6255]]\n"
     ]
    }
   ],
   "source": [
    "classifier = DecisionTreeClassifier(criterion = 'entropy' , random_state = 1)\n",
    "classifier.fit(Xtrain, ytrain)\n",
    "\n",
    "y_pred_train = classifier.predict(Xtrain)\n",
    "y_pred_test = classifier.predict(Xtest)\n",
    "\n",
    "accuracy_train = accuracy_score(ytrain, y_pred_train)\n",
    "accuracy_test = accuracy_score(ytest, y_pred_test)\n",
    "classification_report_output = classification_report(ytest, y_pred_test)\n",
    "conf_matrix = confusion_matrix(ytest, y_pred_test)\n",
    "\n",
    "print(\"Accuracy train \", accuracy_train)\n",
    "print(\"Accuracy test :\", accuracy_test)\n",
    "print(\"Classification Report :\\n\", classification_report_output)\n",
    "print(\"Confusion Matrix :\\n\", conf_matrix)"
   ]
  },
  {
   "cell_type": "code",
   "execution_count": 82,
   "id": "f081c99b",
   "metadata": {},
   "outputs": [
    {
     "name": "stdout",
     "output_type": "stream",
     "text": [
      "F1 Score train: 0.9999824484422992\n",
      "F1 Score test : 0.630703302243509\n"
     ]
    }
   ],
   "source": [
    "f1_train = f1_score(ytrain, y_pred_train)\n",
    "f1_test = f1_score(ytest, y_pred_test)\n",
    "print(\"F1 Score train:\", f1_train)\n",
    "print(\"F1 Score test :\", f1_test)"
   ]
  },
  {
   "cell_type": "markdown",
   "id": "135ac6c0",
   "metadata": {},
   "source": [
    "#### Lets use GridSearchCV"
   ]
  },
  {
   "cell_type": "code",
   "execution_count": 83,
   "id": "562cea97",
   "metadata": {},
   "outputs": [],
   "source": [
    "from sklearn.model_selection import GridSearchCV"
   ]
  },
  {
   "cell_type": "code",
   "execution_count": 84,
   "id": "5caf8317",
   "metadata": {},
   "outputs": [
    {
     "name": "stdout",
     "output_type": "stream",
     "text": [
      "Best parameters for decision tree classifier:  {'criterion': 'entropy', 'max_depth': 5, 'max_features': 'sqrt', 'max_leaf_nodes': 8, 'min_samples_leaf': 1, 'min_samples_split': 2}\n"
     ]
    }
   ],
   "source": [
    "param_grid = [{'criterion': ['entropy'],\n",
    "                     'max_depth': [5,10],  \n",
    "                     'max_features': [\"sqrt\", \"log2\"],\n",
    "                     'min_samples_split': [2,5,8], \n",
    "                     'min_samples_leaf': [1,5,9], \n",
    "                     'max_leaf_nodes': [5,8]}]\n",
    "\n",
    "\n",
    "DT = DecisionTreeClassifier(random_state = 10)\n",
    "\n",
    "tree_grid = GridSearchCV(estimator = DT,\n",
    "                         param_grid = param_grid,\n",
    "                         cv = 5)\n",
    "\n",
    "tree_grid_model = tree_grid.fit(Xtrain, ytrain)\n",
    "\n",
    "print('Best parameters for decision tree classifier: ', tree_grid_model.best_params_)"
   ]
  },
  {
   "cell_type": "code",
   "execution_count": 85,
   "id": "83ee56e1",
   "metadata": {},
   "outputs": [],
   "source": [
    "dtr = DecisionTreeClassifier(criterion= 'entropy', max_depth= 5, max_features= 'sqrt', \n",
    "                             max_leaf_nodes= 5, min_samples_leaf= 1, min_samples_split= 2)"
   ]
  },
  {
   "cell_type": "code",
   "execution_count": 86,
   "id": "7db48059",
   "metadata": {},
   "outputs": [
    {
     "data": {
      "text/plain": [
       "DecisionTreeClassifier(criterion='entropy', max_depth=5, max_features='sqrt',\n",
       "                       max_leaf_nodes=5)"
      ]
     },
     "execution_count": 86,
     "metadata": {},
     "output_type": "execute_result"
    }
   ],
   "source": [
    "dtr.fit(Xtrain,ytrain)"
   ]
  },
  {
   "cell_type": "code",
   "execution_count": 87,
   "id": "1a4532ec",
   "metadata": {},
   "outputs": [
    {
     "name": "stdout",
     "output_type": "stream",
     "text": [
      "Accuracy train GridSearchCV: 0.5066845155267469\n",
      "Accuracy test GridSearchCV: 0.5124966974900925\n",
      "Classification Report GridSearchCV:\n",
      "               precision    recall  f1-score   support\n",
      "\n",
      "           0       0.52      0.56      0.54      9564\n",
      "           1       0.51      0.46      0.48      9361\n",
      "\n",
      "    accuracy                           0.51     18925\n",
      "   macro avg       0.51      0.51      0.51     18925\n",
      "weighted avg       0.51      0.51      0.51     18925\n",
      "\n",
      "Confusion Matrix GridSearchCV:\n",
      " [[5384 4180]\n",
      " [5046 4315]]\n"
     ]
    }
   ],
   "source": [
    "y_pred_train = dtr.predict(Xtrain)\n",
    "y_pred_test = dtr.predict(Xtest)\n",
    "\n",
    "accuracy_train = accuracy_score(ytrain, y_pred_train)\n",
    "accuracy_test = accuracy_score(ytest, y_pred_test)\n",
    "classification_report_output = classification_report(ytest, y_pred_test)\n",
    "conf_matrix = confusion_matrix(ytest, y_pred_test)\n",
    "\n",
    "print(\"Accuracy train GridSearchCV:\", accuracy_train)\n",
    "print(\"Accuracy test GridSearchCV:\", accuracy_test)\n",
    "print(\"Classification Report GridSearchCV:\\n\", classification_report_output)\n",
    "print(\"Confusion Matrix GridSearchCV:\\n\", conf_matrix)"
   ]
  },
  {
   "cell_type": "code",
   "execution_count": 88,
   "id": "fcd6da25",
   "metadata": {},
   "outputs": [
    {
     "name": "stdout",
     "output_type": "stream",
     "text": [
      "F1 Score train: 0.4790073850847332\n",
      "F1 Score test : 0.4833109318996416\n"
     ]
    }
   ],
   "source": [
    "f1_train = f1_score(ytrain, y_pred_train)\n",
    "f1_test = f1_score(ytest, y_pred_test)\n",
    "print(\"F1 Score train:\", f1_train)\n",
    "print(\"F1 Score test :\", f1_test)"
   ]
  },
  {
   "cell_type": "markdown",
   "id": "a5d63044",
   "metadata": {},
   "source": [
    "### Random Forest"
   ]
  },
  {
   "cell_type": "code",
   "execution_count": 89,
   "id": "6e9c1876",
   "metadata": {},
   "outputs": [
    {
     "name": "stdout",
     "output_type": "stream",
     "text": [
      "Accuracy train according to Random Forest: 0.9998767019533933\n",
      "Accuracy test according to Random Forest: 0.6157992073976222\n",
      "Classification Report (Random Forest):\n",
      "               precision    recall  f1-score   support\n",
      "\n",
      "           0       0.63      0.57      0.60      9564\n",
      "           1       0.60      0.67      0.63      9361\n",
      "\n",
      "    accuracy                           0.62     18925\n",
      "   macro avg       0.62      0.62      0.62     18925\n",
      "weighted avg       0.62      0.62      0.61     18925\n",
      "\n",
      "Confusion Matrix (Random Forest):\n",
      " [[5408 4156]\n",
      " [3115 6246]]\n"
     ]
    }
   ],
   "source": [
    "from sklearn.ensemble import RandomForestClassifier\n",
    "RF = RandomForestClassifier( random_state = 1)\n",
    "RF.fit(Xtrain, ytrain)\n",
    "\n",
    "y_pred_train_rf = RF.predict(Xtrain)\n",
    "y_pred_test_rf = RF.predict(Xtest)\n",
    "\n",
    "accuracy_train = accuracy_score(ytrain, y_pred_train_rf)\n",
    "accuracy_test = accuracy_score(ytest, y_pred_test_rf)\n",
    "classification_report_output = classification_report(ytest, y_pred_test_rf)\n",
    "conf_matrix = confusion_matrix(ytest, y_pred_test_rf)\n",
    "\n",
    "print(\"Accuracy train according to Random Forest:\", accuracy_train)\n",
    "print(\"Accuracy test according to Random Forest:\", accuracy_test)\n",
    "print(\"Classification Report (Random Forest):\\n\", classification_report_output)\n",
    "print(\"Confusion Matrix (Random Forest):\\n\", conf_matrix)"
   ]
  },
  {
   "cell_type": "code",
   "execution_count": 90,
   "id": "f94f6cc2",
   "metadata": {},
   "outputs": [
    {
     "name": "stdout",
     "output_type": "stream",
     "text": [
      "F1 Score train: 0.9998771434087439\n",
      "F1 Score test : 0.6320902696958963\n"
     ]
    }
   ],
   "source": [
    "f1_train = f1_score(ytrain, y_pred_train_rf)\n",
    "f1_test = f1_score(ytest, y_pred_test_rf)\n",
    "print(\"F1 Score train:\", f1_train)\n",
    "print(\"F1 Score test :\", f1_test)"
   ]
  },
  {
   "cell_type": "markdown",
   "id": "91faadec",
   "metadata": {},
   "source": [
    "### Random Forest method with important feature"
   ]
  },
  {
   "cell_type": "code",
   "execution_count": 91,
   "id": "af61df21",
   "metadata": {},
   "outputs": [],
   "source": [
    "imp_feat = pd.DataFrame({\"Importance\":RF.feature_importances_,'Feature':Xtrain.columns})\n",
    "imp_feature = imp_feat.sort_values(by='Importance',ascending=False)[:8]['Feature']"
   ]
  },
  {
   "cell_type": "code",
   "execution_count": 92,
   "id": "eef6e944",
   "metadata": {},
   "outputs": [],
   "source": [
    "RF_model = RF.fit(Xtrain[imp_feature],ytrain)"
   ]
  },
  {
   "cell_type": "code",
   "execution_count": 93,
   "id": "0d1d728d",
   "metadata": {},
   "outputs": [
    {
     "name": "stdout",
     "output_type": "stream",
     "text": [
      "Accuracy train according to Random Forest: 0.9998767019533933\n",
      "Accuracy test according to Random Forest: 0.6155878467635403\n",
      "Classification Report (Random Forest):\n",
      "               precision    recall  f1-score   support\n",
      "\n",
      "           0       0.63      0.57      0.60      9564\n",
      "           1       0.60      0.67      0.63      9361\n",
      "\n",
      "    accuracy                           0.62     18925\n",
      "   macro avg       0.62      0.62      0.61     18925\n",
      "weighted avg       0.62      0.62      0.61     18925\n",
      "\n",
      "Confusion Matrix (Random Forest):\n",
      " [[5408 4156]\n",
      " [3119 6242]]\n"
     ]
    }
   ],
   "source": [
    "y_pred_train_rfi = RF_model.predict(Xtrain[imp_feature])\n",
    "y_pred_test_rfi = RF_model.predict(Xtest[imp_feature])\n",
    "\n",
    "accuracy_train = accuracy_score(ytrain, y_pred_train_rfi)\n",
    "accuracy_test = accuracy_score(ytest, y_pred_test_rfi)\n",
    "classification_report_output = classification_report(ytest, y_pred_test_rfi)\n",
    "conf_matrix = confusion_matrix(ytest, y_pred_test_rfi)\n",
    "\n",
    "print(\"Accuracy train according to Random Forest:\", accuracy_train)\n",
    "print(\"Accuracy test according to Random Forest:\", accuracy_test)\n",
    "print(\"Classification Report (Random Forest):\\n\", classification_report_output)\n",
    "print(\"Confusion Matrix (Random Forest):\\n\", conf_matrix)"
   ]
  },
  {
   "cell_type": "code",
   "execution_count": 94,
   "id": "ab57fd19",
   "metadata": {},
   "outputs": [
    {
     "name": "stdout",
     "output_type": "stream",
     "text": [
      "F1 Score train: 0.9998771347831429\n",
      "F1 Score test : 0.6318133508780809\n"
     ]
    }
   ],
   "source": [
    "f1_train = f1_score(ytrain, y_pred_train_rfi)\n",
    "f1_test = f1_score(ytest, y_pred_test_rfi)\n",
    "print(\"F1 Score train:\", f1_train)\n",
    "print(\"F1 Score test :\", f1_test)"
   ]
  },
  {
   "cell_type": "markdown",
   "id": "83ec7825",
   "metadata": {},
   "source": [
    "Lets Use GridSearchCV"
   ]
  },
  {
   "cell_type": "code",
   "execution_count": 95,
   "id": "0b080494",
   "metadata": {},
   "outputs": [],
   "source": [
    "param_grid = [{\"max_depth\": [None,3,4,5,6],\n",
    "       \"max_features\":['auto', 'sqrt', 'log2']}]\n",
    "\n",
    "rfr = RandomForestClassifier(random_state=123)\n",
    "\n",
    "grid_search = GridSearchCV(estimator = rfr, param_grid = param_grid, cv = 3)"
   ]
  },
  {
   "cell_type": "code",
   "execution_count": 96,
   "id": "8ef31960",
   "metadata": {},
   "outputs": [
    {
     "data": {
      "text/plain": [
       "GridSearchCV(cv=3, estimator=RandomForestClassifier(random_state=123),\n",
       "             param_grid=[{'max_depth': [None, 3, 4, 5, 6],\n",
       "                          'max_features': ['auto', 'sqrt', 'log2']}])"
      ]
     },
     "execution_count": 96,
     "metadata": {},
     "output_type": "execute_result"
    }
   ],
   "source": [
    "grid_search.fit(Xtrain,ytrain)"
   ]
  },
  {
   "cell_type": "code",
   "execution_count": 97,
   "id": "13716941",
   "metadata": {},
   "outputs": [
    {
     "name": "stdout",
     "output_type": "stream",
     "text": [
      "{'max_depth': None, 'max_features': 'auto'}\n"
     ]
    }
   ],
   "source": [
    "print(grid_search.best_params_)"
   ]
  },
  {
   "cell_type": "code",
   "execution_count": 98,
   "id": "8feebcac",
   "metadata": {},
   "outputs": [],
   "source": [
    "rfr = RandomForestClassifier(max_depth= None, max_features= 'auto',random_state=1)"
   ]
  },
  {
   "cell_type": "code",
   "execution_count": 99,
   "id": "d1993996",
   "metadata": {},
   "outputs": [
    {
     "data": {
      "text/plain": [
       "RandomForestClassifier(max_depth=5, random_state=1)"
      ]
     },
     "execution_count": 99,
     "metadata": {},
     "output_type": "execute_result"
    }
   ],
   "source": [
    "rfr.fit(Xtrain,ytrain)"
   ]
  },
  {
   "cell_type": "code",
   "execution_count": 100,
   "id": "c3180432",
   "metadata": {},
   "outputs": [
    {
     "name": "stdout",
     "output_type": "stream",
     "text": [
      "Accuracy train according to Random Forest GridSearchCV: 0.5301639864019868\n",
      "Accuracy test according to Random Forest GridSearchCV: 0.5080052840158521\n",
      "Classification Report (Random Forest GridSearchCV):\n",
      "               precision    recall  f1-score   support\n",
      "\n",
      "           0       0.52      0.39      0.44      9564\n",
      "           1       0.50      0.63      0.56      9361\n",
      "\n",
      "    accuracy                           0.51     18925\n",
      "   macro avg       0.51      0.51      0.50     18925\n",
      "weighted avg       0.51      0.51      0.50     18925\n",
      "\n",
      "Confusion Matrix (Random Forest GridSearchCV):\n",
      " [[3721 5843]\n",
      " [3468 5893]]\n"
     ]
    }
   ],
   "source": [
    "y_pred_train_rfg = rfr.predict(Xtrain)\n",
    "y_pred_test_rfg = rfr.predict(Xtest)\n",
    "\n",
    "accuracy_train = accuracy_score(ytrain, y_pred_train_rfg)\n",
    "accuracy_test = accuracy_score(ytest, y_pred_test_rfg)\n",
    "classification_report_output = classification_report(ytest, y_pred_test_rfg)\n",
    "conf_matrix = confusion_matrix(ytest, y_pred_test_rfg)\n",
    "\n",
    "print(\"Accuracy train according to Random Forest GridSearchCV:\", accuracy_train)\n",
    "print(\"Accuracy test according to Random Forest GridSearchCV:\", accuracy_test)\n",
    "print(\"Classification Report (Random Forest GridSearchCV):\\n\", classification_report_output)\n",
    "print(\"Confusion Matrix (Random Forest GridSearchCV):\\n\", conf_matrix)"
   ]
  },
  {
   "cell_type": "code",
   "execution_count": 101,
   "id": "1493ef5e",
   "metadata": {},
   "outputs": [
    {
     "name": "stdout",
     "output_type": "stream",
     "text": [
      "F1 Score train: 0.5800428238554065\n",
      "F1 Score test : 0.558657629046784\n"
     ]
    }
   ],
   "source": [
    "f1_train = f1_score(ytrain, y_pred_train_rfg)\n",
    "f1_test = f1_score(ytest, y_pred_test_rfg)\n",
    "print(\"F1 Score train:\", f1_train)\n",
    "print(\"F1 Score test :\", f1_test)"
   ]
  },
  {
   "cell_type": "markdown",
   "id": "08a4107e",
   "metadata": {},
   "source": [
    "### Stochastic Gradient Descent¶"
   ]
  },
  {
   "cell_type": "code",
   "execution_count": 102,
   "id": "cfb1beb6",
   "metadata": {},
   "outputs": [],
   "source": [
    "from sklearn.linear_model import SGDClassifier"
   ]
  },
  {
   "cell_type": "code",
   "execution_count": 103,
   "id": "7939191b",
   "metadata": {},
   "outputs": [
    {
     "data": {
      "text/plain": [
       "SGDClassifier()"
      ]
     },
     "execution_count": 103,
     "metadata": {},
     "output_type": "execute_result"
    }
   ],
   "source": [
    "sgd = SGDClassifier()\n",
    "\n",
    "sgd.fit(Xtrain, ytrain)"
   ]
  },
  {
   "cell_type": "code",
   "execution_count": 104,
   "id": "5e5fc4ff",
   "metadata": {},
   "outputs": [
    {
     "name": "stdout",
     "output_type": "stream",
     "text": [
      "Accuracy train according to Stochastic Gradient Descent: 0.5027742060486499\n",
      "Accuracy test according to Stochastic Gradient Descent: 0.49743725231175695\n",
      "Classification Report (Stochastic Gradient Descent):\n",
      "               precision    recall  f1-score   support\n",
      "\n",
      "           0       0.52      0.06      0.11      9564\n",
      "           1       0.50      0.94      0.65      9361\n",
      "\n",
      "    accuracy                           0.50     18925\n",
      "   macro avg       0.51      0.50      0.38     18925\n",
      "weighted avg       0.51      0.50      0.38     18925\n",
      "\n",
      "Confusion Matrix (Stochastic Gradient Descent):\n",
      " [[ 599 8965]\n",
      " [ 546 8815]]\n"
     ]
    }
   ],
   "source": [
    "y_pred_train_sg = sgd.predict(Xtrain)\n",
    "y_pred_test_sg = sgd.predict(Xtest)\n",
    "\n",
    "accuracy_train = accuracy_score(ytrain, y_pred_train_sg)\n",
    "accuracy_test = accuracy_score(ytest, y_pred_test_sg)\n",
    "classification_report_output = classification_report(ytest, y_pred_test_sg)\n",
    "conf_matrix = confusion_matrix(ytest, y_pred_test_sg)\n",
    "\n",
    "print(\"Accuracy train according to Stochastic Gradient Descent:\", accuracy_train)\n",
    "print(\"Accuracy test according to Stochastic Gradient Descent:\", accuracy_test)\n",
    "print(\"Classification Report (Stochastic Gradient Descent):\\n\", classification_report_output)\n",
    "print(\"Confusion Matrix (Stochastic Gradient Descent):\\n\", conf_matrix)"
   ]
  },
  {
   "cell_type": "code",
   "execution_count": 105,
   "id": "a9d654b5",
   "metadata": {},
   "outputs": [
    {
     "name": "stdout",
     "output_type": "stream",
     "text": [
      "F1 Score train: 0.6553446065563763\n",
      "F1 Score test : 0.6495707601046388\n"
     ]
    }
   ],
   "source": [
    "f1_train = f1_score(ytrain, y_pred_train_sg)\n",
    "f1_test = f1_score(ytest, y_pred_test_sg)\n",
    "print(\"F1 Score train:\", f1_train)\n",
    "print(\"F1 Score test :\", f1_test)"
   ]
  },
  {
   "cell_type": "markdown",
   "id": "7c4906a5",
   "metadata": {},
   "source": [
    "GridSearchCV for Stochastic Gradient Descent"
   ]
  },
  {
   "cell_type": "code",
   "execution_count": 106,
   "id": "767823f9",
   "metadata": {},
   "outputs": [],
   "source": [
    "sgd = SGDClassifier(random_state=123)\n",
    "estimator = sgd\n",
    "\n",
    "params = ({'l1_ratio':[0.1,0.01,0.001,0.2,0.3,0.5,0.7,0.8,0.9,0.25],\n",
    "          'penalty':['l1','l2','elasticnet'],\n",
    "          'loss':['squared_error','huber'],\n",
    "          'alpha':[0.1,0.2,0.9,1,2,3,4,5,6,7,8,9,10]})"
   ]
  },
  {
   "cell_type": "code",
   "execution_count": 107,
   "id": "90e53e46",
   "metadata": {},
   "outputs": [],
   "source": [
    "from sklearn.model_selection import RandomizedSearchCV"
   ]
  },
  {
   "cell_type": "code",
   "execution_count": 108,
   "id": "5401c9bd",
   "metadata": {},
   "outputs": [
    {
     "name": "stdout",
     "output_type": "stream",
     "text": [
      "{'penalty': 'elasticnet', 'loss': 'huber', 'l1_ratio': 0.1, 'alpha': 10}\n"
     ]
    }
   ],
   "source": [
    "grid_sgd = RandomizedSearchCV(estimator=sgd,param_distributions=params,cv=5)\n",
    "\n",
    "grid_sgd.fit(Xtrain,ytrain)\n",
    "print(grid_sgd.best_params_)"
   ]
  },
  {
   "cell_type": "code",
   "execution_count": 109,
   "id": "32e6e5b0",
   "metadata": {},
   "outputs": [],
   "source": [
    "sgd = SGDClassifier(penalty= 'elasticnet', loss= 'huber', l1_ratio= 0.1, alpha= 10,random_state=1)"
   ]
  },
  {
   "cell_type": "code",
   "execution_count": 110,
   "id": "ba3cf206",
   "metadata": {},
   "outputs": [
    {
     "data": {
      "text/plain": [
       "SGDClassifier(alpha=0.9, l1_ratio=0.5, loss='squared_error',\n",
       "              penalty='elasticnet', random_state=1)"
      ]
     },
     "execution_count": 110,
     "metadata": {},
     "output_type": "execute_result"
    }
   ],
   "source": [
    "sgd.fit(Xtrain,ytrain)"
   ]
  },
  {
   "cell_type": "code",
   "execution_count": 111,
   "id": "574539a3",
   "metadata": {},
   "outputs": [
    {
     "name": "stdout",
     "output_type": "stream",
     "text": [
      "Accuracy train according to Stochastic Gradient Descent: 0.5017878216757966\n",
      "Accuracy test according to Stochastic Gradient Descent: 0.4946367239101717\n",
      "Classification Report (Stochastic Gradient Descent):\n",
      "               precision    recall  f1-score   support\n",
      "\n",
      "           0       0.00      0.00      0.00      9564\n",
      "           1       0.49      1.00      0.66      9361\n",
      "\n",
      "    accuracy                           0.49     18925\n",
      "   macro avg       0.25      0.50      0.33     18925\n",
      "weighted avg       0.24      0.49      0.33     18925\n",
      "\n",
      "Confusion Matrix (Stochastic Gradient Descent):\n",
      " [[   0 9564]\n",
      " [   0 9361]]\n"
     ]
    }
   ],
   "source": [
    "y_pred_train_sg1 = sgd.predict(Xtrain)\n",
    "y_pred_test_sg1 = sgd.predict(Xtest)\n",
    "\n",
    "accuracy_train = accuracy_score(ytrain, y_pred_train_sg1)\n",
    "accuracy_test = accuracy_score(ytest, y_pred_test_sg1)\n",
    "classification_report_output = classification_report(ytest, y_pred_test_sg1)\n",
    "conf_matrix = confusion_matrix(ytest, y_pred_test_sg1)\n",
    "\n",
    "print(\"Accuracy train according to Stochastic Gradient Descent:\", accuracy_train)\n",
    "print(\"Accuracy test according to Stochastic Gradient Descent:\", accuracy_test)\n",
    "print(\"Classification Report (Stochastic Gradient Descent):\\n\", classification_report_output)\n",
    "print(\"Confusion Matrix (Stochastic Gradient Descent):\\n\", conf_matrix)"
   ]
  },
  {
   "cell_type": "code",
   "execution_count": 112,
   "id": "f9c9fb96",
   "metadata": {},
   "outputs": [
    {
     "name": "stdout",
     "output_type": "stream",
     "text": [
      "F1 Score train: 0.668253949636997\n",
      "F1 Score test : 0.6618822032100686\n"
     ]
    }
   ],
   "source": [
    "f1_train = f1_score(ytrain, y_pred_train_sg1)\n",
    "f1_test = f1_score(ytest, y_pred_test_sg1)\n",
    "print(\"F1 Score train:\", f1_train)\n",
    "print(\"F1 Score test :\", f1_test)"
   ]
  },
  {
   "cell_type": "markdown",
   "id": "6e5a2b2f",
   "metadata": {},
   "source": [
    "### XGBoost"
   ]
  },
  {
   "cell_type": "code",
   "execution_count": 113,
   "id": "b1d5512d",
   "metadata": {},
   "outputs": [],
   "source": [
    "from xgboost import XGBClassifier\n",
    "import xgboost as xgb"
   ]
  },
  {
   "cell_type": "code",
   "execution_count": 114,
   "id": "fd6af49d",
   "metadata": {},
   "outputs": [
    {
     "data": {
      "text/plain": [
       "XGBClassifier(base_score=None, booster=None, callbacks=None,\n",
       "              colsample_bylevel=None, colsample_bynode=None,\n",
       "              colsample_bytree=None, early_stopping_rounds=None,\n",
       "              enable_categorical=False, eval_metric=None, feature_types=None,\n",
       "              gamma=None, gpu_id=None, grow_policy=None, importance_type=None,\n",
       "              interaction_constraints=None, learning_rate=None, max_bin=None,\n",
       "              max_cat_threshold=None, max_cat_to_onehot=None,\n",
       "              max_delta_step=None, max_depth=None, max_leaves=None,\n",
       "              min_child_weight=None, missing=nan, monotone_constraints=None,\n",
       "              n_estimators=100, n_jobs=None, num_parallel_tree=None,\n",
       "              predictor=None, random_state=42, ...)"
      ]
     },
     "execution_count": 114,
     "metadata": {},
     "output_type": "execute_result"
    }
   ],
   "source": [
    "xgb1 = xgb.XGBClassifier(n_estimators=100,random_state=42)\n",
    "\n",
    "xgb1.fit(Xtrain,ytrain)"
   ]
  },
  {
   "cell_type": "code",
   "execution_count": 115,
   "id": "1542bcdb",
   "metadata": {},
   "outputs": [
    {
     "name": "stdout",
     "output_type": "stream",
     "text": [
      "Accuracy train according to Xtreme Gradient Boosting: 0.5066845155267469\n",
      "Accuracy test according to Xtreme Gradient Boosting: 0.5124966974900925\n",
      "Classification Report (Xtreme Gradient Boosting):\n",
      "               precision    recall  f1-score   support\n",
      "\n",
      "           0       0.53      0.50      0.51      9564\n",
      "           1       0.52      0.54      0.53      9361\n",
      "\n",
      "    accuracy                           0.52     18925\n",
      "   macro avg       0.52      0.52      0.52     18925\n",
      "weighted avg       0.52      0.52      0.52     18925\n",
      "\n",
      "Confusion Matrix (Xtreme Gradient Boosting):\n",
      " [[4803 4761]\n",
      " [4304 5057]]\n"
     ]
    }
   ],
   "source": [
    "y_pred_train_xgb = xgb1.predict(Xtrain)\n",
    "y_pred_test_xgb = xgb1.predict(Xtest)\n",
    "\n",
    "accuracy_train = accuracy_score(ytrain, y_pred_train)\n",
    "accuracy_test = accuracy_score(ytest, y_pred_test)\n",
    "classification_report_output = classification_report(ytest, y_pred_test_xgb)\n",
    "conf_matrix = confusion_matrix(ytest, y_pred_test_xgb)\n",
    "\n",
    "print(\"Accuracy train according to Xtreme Gradient Boosting:\", accuracy_train)\n",
    "print(\"Accuracy test according to Xtreme Gradient Boosting:\", accuracy_test)\n",
    "print(\"Classification Report (Xtreme Gradient Boosting):\\n\", classification_report_output)\n",
    "print(\"Confusion Matrix (Xtreme Gradient Boosting):\\n\", conf_matrix)"
   ]
  },
  {
   "cell_type": "code",
   "execution_count": 116,
   "id": "562c3112",
   "metadata": {
    "scrolled": true
   },
   "outputs": [
    {
     "name": "stdout",
     "output_type": "stream",
     "text": [
      "F1 Score train: 0.6358879547912234\n",
      "F1 Score test : 0.5273476197924812\n"
     ]
    }
   ],
   "source": [
    "f1_train = f1_score(ytrain, y_pred_train_xgb)\n",
    "f1_test = f1_score(ytest, y_pred_test_xgb)\n",
    "print(\"F1 Score train:\", f1_train)\n",
    "print(\"F1 Score test :\", f1_test)"
   ]
  },
  {
   "cell_type": "markdown",
   "id": "bd915d3d",
   "metadata": {},
   "source": [
    "### Gradient Boosting"
   ]
  },
  {
   "cell_type": "code",
   "execution_count": 117,
   "id": "50f06a03",
   "metadata": {},
   "outputs": [],
   "source": [
    "from sklearn.ensemble import GradientBoostingClassifier"
   ]
  },
  {
   "cell_type": "code",
   "execution_count": 118,
   "id": "cb434bea",
   "metadata": {},
   "outputs": [
    {
     "data": {
      "text/plain": [
       "GradientBoostingClassifier(max_depth=10, n_estimators=150, random_state=123)"
      ]
     },
     "execution_count": 118,
     "metadata": {},
     "output_type": "execute_result"
    }
   ],
   "source": [
    "gbm= GradientBoostingClassifier(n_estimators = 150, max_depth = 10, random_state = 123) \n",
    "gbm.fit(Xtrain,ytrain)"
   ]
  },
  {
   "cell_type": "code",
   "execution_count": 119,
   "id": "990fb171",
   "metadata": {},
   "outputs": [
    {
     "name": "stdout",
     "output_type": "stream",
     "text": [
      "Accuracy train according to Gradient Boosting: 0.7745935567963644\n",
      "Accuracy test according to Gradient Boosting: 0.5671334214002642\n",
      "Classification Report Gradient Boosting:\n",
      "               precision    recall  f1-score   support\n",
      "\n",
      "           0       0.58      0.53      0.56      9564\n",
      "           1       0.56      0.60      0.58      9361\n",
      "\n",
      "    accuracy                           0.57     18925\n",
      "   macro avg       0.57      0.57      0.57     18925\n",
      "weighted avg       0.57      0.57      0.57     18925\n",
      "\n",
      "Confusion Matrix Gradient Boosting:\n",
      " [[5116 4448]\n",
      " [3744 5617]]\n"
     ]
    }
   ],
   "source": [
    "y_pred_train = gbm.predict(Xtrain)\n",
    "y_pred_test = gbm.predict(Xtest)\n",
    "\n",
    "accuracy_train = accuracy_score(ytrain, y_pred_train)\n",
    "accuracy_test = accuracy_score(ytest, y_pred_test)\n",
    "classification_report_output = classification_report(ytest, y_pred_test)\n",
    "conf_matrix = confusion_matrix(ytest, y_pred_test)\n",
    "\n",
    "print(\"Accuracy train according to Gradient Boosting:\", accuracy_train)\n",
    "print(\"Accuracy test according to Gradient Boosting:\", accuracy_test)\n",
    "print(\"Classification Report Gradient Boosting:\\n\", classification_report_output)\n",
    "print(\"Confusion Matrix Gradient Boosting:\\n\", conf_matrix)"
   ]
  },
  {
   "cell_type": "code",
   "execution_count": 120,
   "id": "16a4fd0d",
   "metadata": {},
   "outputs": [
    {
     "name": "stdout",
     "output_type": "stream",
     "text": [
      "F1 Score train: 0.7774550892996887\n",
      "F1 Score test : 0.5782971275610007\n"
     ]
    }
   ],
   "source": [
    "f1_train = f1_score(ytrain, y_pred_train)\n",
    "f1_test = f1_score(ytest, y_pred_test)\n",
    "print(\"F1 Score train:\", f1_train)\n",
    "print(\"F1 Score test :\", f1_test)"
   ]
  },
  {
   "cell_type": "markdown",
   "id": "ef8218ed",
   "metadata": {},
   "source": [
    "RandomizedSearchCV for Gradient Boosting"
   ]
  },
  {
   "cell_type": "code",
   "execution_count": 121,
   "id": "f9bb5464",
   "metadata": {},
   "outputs": [],
   "source": [
    "params=({'n_estimators': [25, 50, 75],  \n",
    "        'learning_rate': [0.1],   \n",
    "        'max_depth': [3, 5, 7] \n",
    "        })\n"
   ]
  },
  {
   "cell_type": "code",
   "execution_count": 122,
   "id": "5e4744b9",
   "metadata": {},
   "outputs": [],
   "source": [
    "from sklearn.model_selection import RandomizedSearchCV"
   ]
  },
  {
   "cell_type": "code",
   "execution_count": 123,
   "id": "92e621a6",
   "metadata": {},
   "outputs": [
    {
     "name": "stdout",
     "output_type": "stream",
     "text": [
      "{'n_estimators': 75, 'max_depth': 7, 'learning_rate': 0.1}\n"
     ]
    }
   ],
   "source": [
    "grid_gbm= RandomizedSearchCV(estimator=gbm,\n",
    "                       param_distributions=params,\n",
    "                       cv=5,random_state=42)\n",
    "\n",
    "grid_gbm.fit(Xtrain,ytrain)\n",
    "print(grid_gbm.best_params_)"
   ]
  },
  {
   "cell_type": "code",
   "execution_count": 124,
   "id": "6b0b0eba",
   "metadata": {},
   "outputs": [],
   "source": [
    "gbm = GradientBoostingClassifier(n_estimators= 75, max_depth= 7, learning_rate= 0.1,random_state=123)"
   ]
  },
  {
   "cell_type": "code",
   "execution_count": 125,
   "id": "73bc51f2",
   "metadata": {},
   "outputs": [
    {
     "data": {
      "text/plain": [
       "GradientBoostingClassifier(n_estimators=25, random_state=123)"
      ]
     },
     "execution_count": 125,
     "metadata": {},
     "output_type": "execute_result"
    }
   ],
   "source": [
    "gbm.fit(Xtrain, ytrain)"
   ]
  },
  {
   "cell_type": "code",
   "execution_count": 126,
   "id": "b6ea623d",
   "metadata": {},
   "outputs": [
    {
     "name": "stdout",
     "output_type": "stream",
     "text": [
      "Accuracy train according to Gradient Boosting: 0.5235058918852271\n",
      "Accuracy test according to Gradient Boosting: 0.5105944517833554\n",
      "Classification Report Gradient Boosting:\n",
      "               precision    recall  f1-score   support\n",
      "\n",
      "           0       0.52      0.44      0.48      9564\n",
      "           1       0.50      0.58      0.54      9361\n",
      "\n",
      "    accuracy                           0.51     18925\n",
      "   macro avg       0.51      0.51      0.51     18925\n",
      "weighted avg       0.51      0.51      0.51     18925\n",
      "\n",
      "Confusion Matrix Gradient Boosting:\n",
      " [[4197 5367]\n",
      " [3895 5466]]\n"
     ]
    }
   ],
   "source": [
    "y_pred_train = gbm.predict(Xtrain)\n",
    "y_pred_test = gbm.predict(Xtest)\n",
    "\n",
    "accuracy_train = accuracy_score(ytrain, y_pred_train)\n",
    "accuracy_test = accuracy_score(ytest, y_pred_test)\n",
    "classification_report_output = classification_report(ytest, y_pred_test)\n",
    "conf_matrix = confusion_matrix(ytest, y_pred_test)\n",
    "\n",
    "print(\"Accuracy train according to Gradient Boosting:\", accuracy_train)\n",
    "print(\"Accuracy test according to Gradient Boosting:\", accuracy_test)\n",
    "print(\"Classification Report Gradient Boosting:\\n\", classification_report_output)\n",
    "print(\"Confusion Matrix Gradient Boosting:\\n\", conf_matrix)"
   ]
  },
  {
   "cell_type": "markdown",
   "id": "54e4d095",
   "metadata": {},
   "source": [
    "###  KNN Classifier with all feature"
   ]
  },
  {
   "cell_type": "code",
   "execution_count": 127,
   "id": "423bbfbb",
   "metadata": {},
   "outputs": [],
   "source": [
    "from sklearn.neighbors import KNeighborsClassifier"
   ]
  },
  {
   "cell_type": "code",
   "execution_count": 128,
   "id": "537a1f7f",
   "metadata": {},
   "outputs": [
    {
     "data": {
      "text/plain": [
       "KNeighborsClassifier()"
      ]
     },
     "execution_count": 128,
     "metadata": {},
     "output_type": "execute_result"
    }
   ],
   "source": [
    "KNeighborsClassifier()"
   ]
  },
  {
   "cell_type": "code",
   "execution_count": 129,
   "id": "89645eb4",
   "metadata": {},
   "outputs": [],
   "source": [
    "knn= KNeighborsClassifier(n_neighbors = 3)\n",
    "\n",
    "knn_model = knn.fit(Xtrain, ytrain)"
   ]
  },
  {
   "cell_type": "code",
   "execution_count": 130,
   "id": "8b64f31b",
   "metadata": {},
   "outputs": [
    {
     "name": "stdout",
     "output_type": "stream",
     "text": [
      "Accuracy train according to KNN classifier: 0.7800891268736899\n",
      "Accuracy test according to KNN classifier: 0.5567239101717305\n",
      "Classification Report KNN classifier:\n",
      "               precision    recall  f1-score   support\n",
      "\n",
      "           0       0.57      0.52      0.54      9564\n",
      "           1       0.55      0.60      0.57      9361\n",
      "\n",
      "    accuracy                           0.56     18925\n",
      "   macro avg       0.56      0.56      0.56     18925\n",
      "weighted avg       0.56      0.56      0.56     18925\n",
      "\n",
      "Confusion Matrix KNN classifier:\n",
      " [[4947 4617]\n",
      " [3772 5589]]\n"
     ]
    }
   ],
   "source": [
    "y_pred_train = knn.predict(Xtrain)\n",
    "y_pred_test = knn.predict(Xtest)\n",
    "\n",
    "accuracy_train = accuracy_score(ytrain, y_pred_train)\n",
    "accuracy_test = accuracy_score(ytest, y_pred_test)\n",
    "classification_report_output = classification_report(ytest, y_pred_test)\n",
    "conf_matrix = confusion_matrix(ytest, y_pred_test)\n",
    "\n",
    "print(\"Accuracy train according to KNN classifier:\", accuracy_train)\n",
    "print(\"Accuracy test according to KNN classifier:\", accuracy_test)\n",
    "print(\"Classification Report KNN classifier:\\n\", classification_report_output)\n",
    "print(\"Confusion Matrix KNN classifier:\\n\", conf_matrix)"
   ]
  },
  {
   "cell_type": "markdown",
   "id": "247d3f4a",
   "metadata": {},
   "source": [
    "Optimal Value of K (using RandomizedSearchCV)"
   ]
  },
  {
   "cell_type": "code",
   "execution_count": 131,
   "id": "dde04f37",
   "metadata": {},
   "outputs": [
    {
     "name": "stdout",
     "output_type": "stream",
     "text": [
      "Best parameters for KNN Classifier:  {'n_neighbors': 15, 'metric': 'manhattan'}\n"
     ]
    }
   ],
   "source": [
    "param_grid = {'n_neighbors': np.arange(1, 25, 2),\n",
    "                   'metric': ['hamming','euclidean','manhattan']}\n",
    "\n",
    "knn_classification = KNeighborsClassifier()\n",
    "\n",
    "knn_grid = RandomizedSearchCV(estimator = knn_classification,\n",
    "                        param_distributions= param_grid,\n",
    "                        cv = 5,\n",
    "                        scoring =f1_score)\n",
    "\n",
    "knn_grid.fit(Xtrain, ytrain)\n",
    "\n",
    "print('Best parameters for KNN Classifier: ', knn_grid.best_params_)"
   ]
  },
  {
   "cell_type": "code",
   "execution_count": 132,
   "id": "2506e881",
   "metadata": {},
   "outputs": [],
   "source": [
    "knn = KNeighborsClassifier(metric= 'manhattan', n_neighbors= 15)"
   ]
  },
  {
   "cell_type": "code",
   "execution_count": 133,
   "id": "82aac9b1",
   "metadata": {},
   "outputs": [
    {
     "data": {
      "text/plain": [
       "KNeighborsClassifier(metric='manhattan', n_neighbors=1)"
      ]
     },
     "execution_count": 133,
     "metadata": {},
     "output_type": "execute_result"
    }
   ],
   "source": [
    "knn.fit(Xtrain,ytrain)"
   ]
  },
  {
   "cell_type": "code",
   "execution_count": 134,
   "id": "534a91f1",
   "metadata": {},
   "outputs": [
    {
     "name": "stdout",
     "output_type": "stream",
     "text": [
      "Accuracy train according to KNN classifier: 1.0\n",
      "Accuracy test according to KNN classifier: 0.6085072655217966\n",
      "Classification Report KNN classifier:\n",
      "               precision    recall  f1-score   support\n",
      "\n",
      "           0       0.63      0.56      0.59      9564\n",
      "           1       0.59      0.66      0.63      9361\n",
      "\n",
      "    accuracy                           0.61     18925\n",
      "   macro avg       0.61      0.61      0.61     18925\n",
      "weighted avg       0.61      0.61      0.61     18925\n",
      "\n",
      "Confusion Matrix KNN classifier:\n",
      " [[5317 4247]\n",
      " [3162 6199]]\n"
     ]
    }
   ],
   "source": [
    "y_pred_train = knn.predict(Xtrain)\n",
    "y_pred_test = knn.predict(Xtest)\n",
    "\n",
    "accuracy_train = accuracy_score(ytrain, y_pred_train)\n",
    "accuracy_test = accuracy_score(ytest, y_pred_test)\n",
    "classification_report_output = classification_report(ytest, y_pred_test)\n",
    "conf_matrix = confusion_matrix(ytest, y_pred_test)\n",
    "\n",
    "print(\"Accuracy train according to KNN classifier:\", accuracy_train)\n",
    "print(\"Accuracy test according to KNN classifier:\", accuracy_test)\n",
    "print(\"Classification Report KNN classifier:\\n\", classification_report_output)\n",
    "print(\"Confusion Matrix KNN classifier:\\n\", conf_matrix)"
   ]
  },
  {
   "cell_type": "markdown",
   "id": "7b0d4f23",
   "metadata": {},
   "source": [
    "### AdaBoost with all feature"
   ]
  },
  {
   "cell_type": "code",
   "execution_count": 135,
   "id": "9895ad97",
   "metadata": {},
   "outputs": [],
   "source": [
    "from sklearn.ensemble import AdaBoostClassifier\n",
    "ada=AdaBoostClassifier(random_state=1).fit(Xtrain,ytrain)"
   ]
  },
  {
   "cell_type": "code",
   "execution_count": 136,
   "id": "550244f0",
   "metadata": {},
   "outputs": [
    {
     "name": "stdout",
     "output_type": "stream",
     "text": [
      "              precision    recall  f1-score   support\n",
      "\n",
      "           0       0.52      0.49      0.50      9564\n",
      "           1       0.51      0.54      0.52      9361\n",
      "\n",
      "    accuracy                           0.51     18925\n",
      "   macro avg       0.51      0.51      0.51     18925\n",
      "weighted avg       0.51      0.51      0.51     18925\n",
      "\n"
     ]
    }
   ],
   "source": [
    "y_pred_ada=ada.predict(Xtest)\n",
    "print(classification_report(ytest,y_pred_ada))"
   ]
  },
  {
   "cell_type": "markdown",
   "id": "a8a30e37",
   "metadata": {},
   "source": [
    "#### Hyperparameter tuning"
   ]
  },
  {
   "cell_type": "code",
   "execution_count": 137,
   "id": "76f369e6",
   "metadata": {},
   "outputs": [],
   "source": [
    "param_grid = {\"n_estimators\": [40,50,80,100],\n",
    "              \"learning_rate\":[0.01,.1,1]\n",
    "             }"
   ]
  },
  {
   "cell_type": "code",
   "execution_count": 138,
   "id": "fdd0ea6c",
   "metadata": {},
   "outputs": [],
   "source": [
    "grid_search = RandomizedSearchCV(estimator=ada, param_distributions=param_grid, n_jobs=1, cv=5, scoring=f1_score)"
   ]
  },
  {
   "cell_type": "code",
   "execution_count": 139,
   "id": "55ebbd8d",
   "metadata": {},
   "outputs": [
    {
     "data": {
      "text/plain": [
       "RandomizedSearchCV(cv=5, estimator=AdaBoostClassifier(random_state=1), n_jobs=1,\n",
       "                   param_distributions={'learning_rate': [0.01, 0.1, 1],\n",
       "                                        'n_estimators': [40, 50, 80, 100]},\n",
       "                   scoring=<function f1_score at 0x00000266E61AA8B0>)"
      ]
     },
     "execution_count": 139,
     "metadata": {},
     "output_type": "execute_result"
    }
   ],
   "source": [
    "grid_search.fit(Xtrain,ytrain)"
   ]
  },
  {
   "cell_type": "code",
   "execution_count": 140,
   "id": "e148ef27",
   "metadata": {},
   "outputs": [
    {
     "name": "stdout",
     "output_type": "stream",
     "text": [
      "{'n_estimators': 40, 'learning_rate': 0.1}\n"
     ]
    }
   ],
   "source": [
    "print(grid_search.best_params_)"
   ]
  },
  {
   "cell_type": "code",
   "execution_count": 141,
   "id": "252d8377",
   "metadata": {},
   "outputs": [],
   "source": [
    "ada1=AdaBoostClassifier(random_state=1,learning_rate=0.1,n_estimators=40).fit(Xtrain,ytrain)"
   ]
  },
  {
   "cell_type": "code",
   "execution_count": 142,
   "id": "aacefe60",
   "metadata": {},
   "outputs": [
    {
     "name": "stdout",
     "output_type": "stream",
     "text": [
      "              precision    recall  f1-score   support\n",
      "\n",
      "           0       0.51      0.31      0.39      9564\n",
      "           1       0.50      0.70      0.58      9361\n",
      "\n",
      "    accuracy                           0.50     18925\n",
      "   macro avg       0.51      0.51      0.49     18925\n",
      "weighted avg       0.51      0.50      0.48     18925\n",
      "\n"
     ]
    }
   ],
   "source": [
    "y_pred_ada1=ada1.predict(Xtest)\n",
    "print(classification_report(ytest,y_pred_ada1))"
   ]
  },
  {
   "cell_type": "code",
   "execution_count": 143,
   "id": "f9f59881",
   "metadata": {},
   "outputs": [
    {
     "data": {
      "text/html": [
       "<div>\n",
       "<style scoped>\n",
       "    .dataframe tbody tr th:only-of-type {\n",
       "        vertical-align: middle;\n",
       "    }\n",
       "\n",
       "    .dataframe tbody tr th {\n",
       "        vertical-align: top;\n",
       "    }\n",
       "\n",
       "    .dataframe thead th {\n",
       "        text-align: right;\n",
       "    }\n",
       "</style>\n",
       "<table border=\"1\" class=\"dataframe\">\n",
       "  <thead>\n",
       "    <tr style=\"text-align: right;\">\n",
       "      <th></th>\n",
       "      <th>ID</th>\n",
       "      <th>AGE</th>\n",
       "      <th>GENDER</th>\n",
       "      <th>DRIVING_EXPERIENCE</th>\n",
       "      <th>EDUCATION</th>\n",
       "      <th>INCOME</th>\n",
       "      <th>CREDIT_SCORE</th>\n",
       "      <th>VEHICLE_OWNERSHIP</th>\n",
       "      <th>VEHICLE_YEAR</th>\n",
       "      <th>MARRIED</th>\n",
       "      <th>CHILDREN</th>\n",
       "      <th>POSTAL_CODE</th>\n",
       "      <th>ANNUAL_MILEAGE</th>\n",
       "      <th>SPEEDING_VIOLATIONS</th>\n",
       "      <th>DUIS</th>\n",
       "      <th>PAST_ACCIDENTS</th>\n",
       "      <th>TYPE_OF_VEHICLE</th>\n",
       "    </tr>\n",
       "  </thead>\n",
       "  <tbody>\n",
       "    <tr>\n",
       "      <th>0</th>\n",
       "      <td>303713</td>\n",
       "      <td>16-25</td>\n",
       "      <td>male</td>\n",
       "      <td>10-19y</td>\n",
       "      <td>high school</td>\n",
       "      <td>middle class</td>\n",
       "      <td>0.424958</td>\n",
       "      <td>1</td>\n",
       "      <td>before 2015</td>\n",
       "      <td>1</td>\n",
       "      <td>0</td>\n",
       "      <td>10238</td>\n",
       "      <td>13000</td>\n",
       "      <td>0</td>\n",
       "      <td>0</td>\n",
       "      <td>0</td>\n",
       "      <td>Sports Car</td>\n",
       "    </tr>\n",
       "    <tr>\n",
       "      <th>1</th>\n",
       "      <td>141107</td>\n",
       "      <td>16-25</td>\n",
       "      <td>male</td>\n",
       "      <td>20-29y</td>\n",
       "      <td>high school</td>\n",
       "      <td>working class</td>\n",
       "      <td>0.503478</td>\n",
       "      <td>0</td>\n",
       "      <td>before 2015</td>\n",
       "      <td>1</td>\n",
       "      <td>1</td>\n",
       "      <td>10238</td>\n",
       "      <td>14000</td>\n",
       "      <td>0</td>\n",
       "      <td>0</td>\n",
       "      <td>0</td>\n",
       "      <td>SUV</td>\n",
       "    </tr>\n",
       "    <tr>\n",
       "      <th>2</th>\n",
       "      <td>447316</td>\n",
       "      <td>26-39</td>\n",
       "      <td>female</td>\n",
       "      <td>20-29y</td>\n",
       "      <td>high school</td>\n",
       "      <td>upper class</td>\n",
       "      <td>0.252246</td>\n",
       "      <td>1</td>\n",
       "      <td>before 2015</td>\n",
       "      <td>1</td>\n",
       "      <td>0</td>\n",
       "      <td>10238</td>\n",
       "      <td>10000</td>\n",
       "      <td>0</td>\n",
       "      <td>0</td>\n",
       "      <td>0</td>\n",
       "      <td>HatchBack</td>\n",
       "    </tr>\n",
       "    <tr>\n",
       "      <th>3</th>\n",
       "      <td>196066</td>\n",
       "      <td>16-25</td>\n",
       "      <td>female</td>\n",
       "      <td>20-29y</td>\n",
       "      <td>university</td>\n",
       "      <td>middle class</td>\n",
       "      <td>0.464749</td>\n",
       "      <td>1</td>\n",
       "      <td>before 2015</td>\n",
       "      <td>1</td>\n",
       "      <td>1</td>\n",
       "      <td>10238</td>\n",
       "      <td>7000</td>\n",
       "      <td>0</td>\n",
       "      <td>1</td>\n",
       "      <td>0</td>\n",
       "      <td>SUV</td>\n",
       "    </tr>\n",
       "    <tr>\n",
       "      <th>4</th>\n",
       "      <td>179947</td>\n",
       "      <td>16-25</td>\n",
       "      <td>male</td>\n",
       "      <td>20-29y</td>\n",
       "      <td>high school</td>\n",
       "      <td>working class</td>\n",
       "      <td>0.452968</td>\n",
       "      <td>1</td>\n",
       "      <td>after 2015</td>\n",
       "      <td>0</td>\n",
       "      <td>1</td>\n",
       "      <td>10238</td>\n",
       "      <td>13000</td>\n",
       "      <td>1</td>\n",
       "      <td>0</td>\n",
       "      <td>0</td>\n",
       "      <td>SUV</td>\n",
       "    </tr>\n",
       "  </tbody>\n",
       "</table>\n",
       "</div>"
      ],
      "text/plain": [
       "       ID    AGE  GENDER DRIVING_EXPERIENCE    EDUCATION         INCOME  \\\n",
       "0  303713  16-25    male             10-19y  high school   middle class   \n",
       "1  141107  16-25    male             20-29y  high school  working class   \n",
       "2  447316  26-39  female             20-29y  high school    upper class   \n",
       "3  196066  16-25  female             20-29y   university   middle class   \n",
       "4  179947  16-25    male             20-29y  high school  working class   \n",
       "\n",
       "   CREDIT_SCORE  VEHICLE_OWNERSHIP VEHICLE_YEAR  MARRIED  CHILDREN  \\\n",
       "0      0.424958                  1  before 2015        1         0   \n",
       "1      0.503478                  0  before 2015        1         1   \n",
       "2      0.252246                  1  before 2015        1         0   \n",
       "3      0.464749                  1  before 2015        1         1   \n",
       "4      0.452968                  1   after 2015        0         1   \n",
       "\n",
       "   POSTAL_CODE  ANNUAL_MILEAGE  SPEEDING_VIOLATIONS  DUIS  PAST_ACCIDENTS  \\\n",
       "0        10238           13000                    0     0               0   \n",
       "1        10238           14000                    0     0               0   \n",
       "2        10238           10000                    0     0               0   \n",
       "3        10238            7000                    0     1               0   \n",
       "4        10238           13000                    1     0               0   \n",
       "\n",
       "  TYPE_OF_VEHICLE  \n",
       "0      Sports Car  \n",
       "1             SUV  \n",
       "2       HatchBack  \n",
       "3             SUV  \n",
       "4             SUV  "
      ]
     },
     "execution_count": 143,
     "metadata": {},
     "output_type": "execute_result"
    }
   ],
   "source": [
    "test_df.head()"
   ]
  },
  {
   "cell_type": "code",
   "execution_count": 144,
   "id": "ae9b0e69",
   "metadata": {},
   "outputs": [
    {
     "data": {
      "text/plain": [
       "ID                       int64\n",
       "AGE                     object\n",
       "GENDER                  object\n",
       "DRIVING_EXPERIENCE      object\n",
       "EDUCATION               object\n",
       "INCOME                  object\n",
       "CREDIT_SCORE           float64\n",
       "VEHICLE_OWNERSHIP        int64\n",
       "VEHICLE_YEAR            object\n",
       "MARRIED                  int64\n",
       "CHILDREN                 int64\n",
       "POSTAL_CODE              int64\n",
       "ANNUAL_MILEAGE           int64\n",
       "SPEEDING_VIOLATIONS      int64\n",
       "DUIS                     int64\n",
       "PAST_ACCIDENTS           int64\n",
       "TYPE_OF_VEHICLE         object\n",
       "dtype: object"
      ]
     },
     "execution_count": 144,
     "metadata": {},
     "output_type": "execute_result"
    }
   ],
   "source": [
    "test_df.dtypes"
   ]
  },
  {
   "cell_type": "code",
   "execution_count": 145,
   "id": "eb0411be",
   "metadata": {},
   "outputs": [
    {
     "data": {
      "text/plain": [
       "CREDIT_SCORE           float64\n",
       "ANNUAL_MILEAGE         float64\n",
       "SPEEDING_VIOLATIONS    float64\n",
       "DUIS                   float64\n",
       "PAST_ACCIDENTS         float64\n",
       "AGE                    float64\n",
       "GENDER                 float64\n",
       "DRIVING_EXPERIENCE     float64\n",
       "EDUCATION              float64\n",
       "INCOME                 float64\n",
       "VEHICLE_OWNERSHIP      float64\n",
       "VEHICLE_YEAR           float64\n",
       "MARRIED                float64\n",
       "CHILDREN               float64\n",
       "TYPE_OF_VEHICLE        float64\n",
       "OUTCOME                  int64\n",
       "dtype: object"
      ]
     },
     "execution_count": 145,
     "metadata": {},
     "output_type": "execute_result"
    }
   ],
   "source": [
    "train_df_final.dtypes"
   ]
  },
  {
   "cell_type": "code",
   "execution_count": 146,
   "id": "7ed39079",
   "metadata": {},
   "outputs": [],
   "source": [
    "xtst=pd.DataFrame({'OUTCOME':y_pred_test_sg1})"
   ]
  },
  {
   "cell_type": "code",
   "execution_count": 147,
   "id": "510cc1cf",
   "metadata": {},
   "outputs": [],
   "source": [
    "xtst.to_csv('test_df1.csv',index=False)"
   ]
  },
  {
   "cell_type": "code",
   "execution_count": 148,
   "id": "f77d8113",
   "metadata": {},
   "outputs": [],
   "source": [
    "test_df1=pd.read_csv('test_df1.csv')"
   ]
  },
  {
   "cell_type": "code",
   "execution_count": 149,
   "id": "76cd914a",
   "metadata": {},
   "outputs": [],
   "source": [
    "result_df = pd.DataFrame({'ID': test_df['ID'], 'OUTCOME': test_df1['OUTCOME']})"
   ]
  },
  {
   "cell_type": "code",
   "execution_count": 150,
   "id": "fe4d00aa",
   "metadata": {},
   "outputs": [
    {
     "data": {
      "text/html": [
       "<div>\n",
       "<style scoped>\n",
       "    .dataframe tbody tr th:only-of-type {\n",
       "        vertical-align: middle;\n",
       "    }\n",
       "\n",
       "    .dataframe tbody tr th {\n",
       "        vertical-align: top;\n",
       "    }\n",
       "\n",
       "    .dataframe thead th {\n",
       "        text-align: right;\n",
       "    }\n",
       "</style>\n",
       "<table border=\"1\" class=\"dataframe\">\n",
       "  <thead>\n",
       "    <tr style=\"text-align: right;\">\n",
       "      <th></th>\n",
       "      <th>ID</th>\n",
       "      <th>OUTCOME</th>\n",
       "    </tr>\n",
       "  </thead>\n",
       "  <tbody>\n",
       "    <tr>\n",
       "      <th>0</th>\n",
       "      <td>303713.0</td>\n",
       "      <td>1</td>\n",
       "    </tr>\n",
       "    <tr>\n",
       "      <th>1</th>\n",
       "      <td>141107.0</td>\n",
       "      <td>1</td>\n",
       "    </tr>\n",
       "    <tr>\n",
       "      <th>2</th>\n",
       "      <td>447316.0</td>\n",
       "      <td>1</td>\n",
       "    </tr>\n",
       "    <tr>\n",
       "      <th>3</th>\n",
       "      <td>196066.0</td>\n",
       "      <td>1</td>\n",
       "    </tr>\n",
       "    <tr>\n",
       "      <th>4</th>\n",
       "      <td>179947.0</td>\n",
       "      <td>1</td>\n",
       "    </tr>\n",
       "  </tbody>\n",
       "</table>\n",
       "</div>"
      ],
      "text/plain": [
       "         ID  OUTCOME\n",
       "0  303713.0        1\n",
       "1  141107.0        1\n",
       "2  447316.0        1\n",
       "3  196066.0        1\n",
       "4  179947.0        1"
      ]
     },
     "execution_count": 150,
     "metadata": {},
     "output_type": "execute_result"
    }
   ],
   "source": [
    "result_df.head()"
   ]
  },
  {
   "cell_type": "code",
   "execution_count": 151,
   "id": "c2ad8969",
   "metadata": {},
   "outputs": [],
   "source": [
    "result_df.to_csv('result3_df.csv',index=False)"
   ]
  },
  {
   "cell_type": "markdown",
   "id": "58fee5ff",
   "metadata": {},
   "source": [
    "* Best F1 score is for stochastic Gradient descent with fine tuning parameter."
   ]
  },
  {
   "cell_type": "code",
   "execution_count": null,
   "id": "e7e49613",
   "metadata": {},
   "outputs": [],
   "source": []
  }
 ],
 "metadata": {
  "kernelspec": {
   "display_name": "Python 3 (ipykernel)",
   "language": "python",
   "name": "python3"
  },
  "language_info": {
   "codemirror_mode": {
    "name": "ipython",
    "version": 3
   },
   "file_extension": ".py",
   "mimetype": "text/x-python",
   "name": "python",
   "nbconvert_exporter": "python",
   "pygments_lexer": "ipython3",
   "version": "3.9.12"
  }
 },
 "nbformat": 4,
 "nbformat_minor": 5
}
